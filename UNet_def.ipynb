{
 "cells": [
  {
   "cell_type": "markdown",
   "metadata": {
    "id": "vT3lKrcl5lAv"
   },
   "source": [
    "# Computer vision"
   ]
  },
  {
   "cell_type": "markdown",
   "metadata": {
    "id": "ZF4hjFHf5lAx"
   },
   "source": [
    "## Librerías"
   ]
  },
  {
   "cell_type": "code",
   "execution_count": 1,
   "metadata": {
    "id": "QOXc8EwE5lAy"
   },
   "outputs": [],
   "source": [
    "import torch\n",
    "import torchvision\n",
    "import torchvision.transforms as transforms\n",
    "from torchvision import datasets, transforms, models\n",
    "import matplotlib.pyplot as plt\n",
    "import numpy as np\n",
    "import pandas as pd\n",
    "\n",
    "import torch.nn as nn\n",
    "import torch.nn.functional as F\n",
    "\n",
    "import torch.optim as optim\n",
    "\n",
    "\n",
    "batch_size = 4\n",
    "\n",
    "classes = ('plane', 'car', 'bird', 'cat',\n",
    "           'deer', 'dog', 'frog', 'horse', 'ship', 'truck')\n",
    "partitions = ['train', 'val']"
   ]
  },
  {
   "cell_type": "markdown",
   "metadata": {
    "id": "jBI0tET25lAz"
   },
   "source": [
    "## Crear la base de datos"
   ]
  },
  {
   "cell_type": "markdown",
   "metadata": {
    "id": "Zp-MCO6P5lAz"
   },
   "source": [
    "### Funciones para pre procesamiento "
   ]
  },
  {
   "cell_type": "code",
   "execution_count": 2,
   "metadata": {
    "id": "N0ocM9FC5lA0"
   },
   "outputs": [],
   "source": [
    "train_transform = transforms.Compose(\n",
    "    [transforms.RandomCrop(32, padding=4),\n",
    "     transforms.RandomHorizontalFlip(),\n",
    "     transforms.ToTensor()])#transforms.Normalize((0.5, 0.5, 0.5), (0.5, 0.5, 0.5))\n",
    "\n",
    "test_transform = transforms.Compose(\n",
    "    [transforms.ToTensor()])#transforms.Normalize((0.5, 0.5, 0.5), (0.5, 0.5, 0.5))"
   ]
  },
  {
   "cell_type": "code",
   "execution_count": 3,
   "metadata": {
    "colab": {
     "base_uri": "https://localhost:8080/",
     "height": 99,
     "referenced_widgets": [
      "7dfee193a6e94c43856a6a2296d3f487",
      "0b4a4da849994cac8e85b10711a63e32",
      "9bcc63a250d64f7b8d8c6bcdd931fa47",
      "2076269be7cc41958829fafefdbe0943",
      "6a7280d98a7c44ed9ba50cd69b7a32c4",
      "9584278546ab477ba4d98c987ad76530",
      "778aaa1c1f34404c87c78c5ef5222e16",
      "ba04a6187d4f4353bdc0eed16feb1939",
      "e453bf9f36494ee0aa5c6b9761a3b3f0",
      "4ca0ddd124814eb88050983146aa0642",
      "73f0fc1b0faf478aae6c8dec283084b3"
     ]
    },
    "id": "QwZFttB45lA0",
    "outputId": "de6fe08b-4c19-414b-f8b0-a8bb15e00828"
   },
   "outputs": [
    {
     "name": "stdout",
     "output_type": "stream",
     "text": [
      "Downloading https://www.cs.toronto.edu/~kriz/cifar-10-python.tar.gz to ./data/cifar-10-python.tar.gz\n"
     ]
    },
    {
     "data": {
      "application/vnd.jupyter.widget-view+json": {
       "model_id": "5522c70246ba4e2cac1535f22380d74a",
       "version_major": 2,
       "version_minor": 0
      },
      "text/plain": [
       "0it [00:00, ?it/s]"
      ]
     },
     "metadata": {},
     "output_type": "display_data"
    },
    {
     "name": "stdout",
     "output_type": "stream",
     "text": [
      "Extracting ./data/cifar-10-python.tar.gz to ./data\n",
      "Files already downloaded and verified\n"
     ]
    }
   ],
   "source": [
    "trainset = torchvision.datasets.CIFAR10(root='./data', train=True,\n",
    "                                        download=True, transform=train_transform)\n",
    "train_set, val_set = torch.utils.data.random_split(trainset, [40000, 10000])\n",
    "\n",
    "testset = torchvision.datasets.CIFAR10(root='./data', train=False,\n",
    "                                       download=True, transform=test_transform)"
   ]
  },
  {
   "cell_type": "code",
   "execution_count": 4,
   "metadata": {
    "colab": {
     "base_uri": "https://localhost:8080/"
    },
    "id": "UIZ7X27k5lA1",
    "outputId": "38b32e4c-f47b-413b-9558-5f3209d65207"
   },
   "outputs": [
    {
     "data": {
      "text/plain": [
       "(50000, 10000, 10000)"
      ]
     },
     "execution_count": 4,
     "metadata": {},
     "output_type": "execute_result"
    }
   ],
   "source": [
    "len(trainset), len(val_set), len(testset)"
   ]
  },
  {
   "cell_type": "markdown",
   "metadata": {
    "id": "xaDP0LoL5lA1"
   },
   "source": [
    "### Cargar los datos "
   ]
  },
  {
   "cell_type": "code",
   "execution_count": 21,
   "metadata": {
    "id": "PBQewXy95lA2"
   },
   "outputs": [],
   "source": [
    "trainloader = torch.utils.data.DataLoader(train_set, batch_size=24,\n",
    "                                          shuffle=True)#64,128\n",
    "valLoader = torch.utils.data.DataLoader(val_set, batch_size=24,\n",
    "                                          shuffle=True)\n",
    "dataloaders = {'train': trainloader,\\\n",
    "              'val': valLoader}\n",
    "testloader = torch.utils.data.DataLoader(testset, batch_size=1,\n",
    "                                         shuffle=False)"
   ]
  },
  {
   "cell_type": "code",
   "execution_count": null,
   "metadata": {
    "id": "NX3vixSC5lA2"
   },
   "outputs": [],
   "source": [
    "for data in trainloader:\n",
    "    inputs, labels = data\n",
    "   # print(inputs.shape)\n",
    "    data_toDisplay = np.transpose(torchvision.utils.make_grid(inputs), (1, 2, 0))\n",
    "   # plt.imshow(data_toDisplay)\n",
    "   # plt.show()"
   ]
  },
  {
   "cell_type": "markdown",
   "metadata": {
    "id": "nHaxPQe0uHAT"
   },
   "source": [
    "# **Modelo UNet**"
   ]
  },
  {
   "cell_type": "markdown",
   "metadata": {
    "id": "6cqKOU8PPG09"
   },
   "source": [
    "[UNet info](https://lmb.informatik.uni-freiburg.de/people/ronneber/u-net/)"
   ]
  },
  {
   "cell_type": "markdown",
   "metadata": {
    "id": "gl13D-V9O5h1"
   },
   "source": [
    "![Unet.PNG](data:image/png;base64,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)"
   ]
  },
  {
   "cell_type": "raw",
   "metadata": {
    "id": "4JonOFiWn8o-"
   },
   "source": [
    "class UNet(nn.Module):\n",
    "    def contracting_block(self, in_channels, out_channels, kernel_size=3):\n",
    "       # \"\"\"\n",
    "       # This function creates one contracting block\n",
    "       # \"\"\"\n",
    "        block = torch.nn.Sequential(\n",
    "                    torch.nn.Conv2d(kernel_size=kernel_size, in_channels=in_channels, out_channels=out_channels),\n",
    "                    torch.nn.ReLU(),\n",
    "                  #  torch.nn.BatchNorm2d(out_channels),\n",
    "                    torch.nn.Conv2d(kernel_size=kernel_size, in_channels=out_channels, out_channels=out_channels),\n",
    "                    torch.nn.ReLU(),\n",
    "                  #  torch.nn.BatchNorm2d(out_channels),\n",
    "                )\n",
    "        return block\n",
    "\n",
    "    def expansive_block(self, in_channels, mid_channel, out_channels, kernel_size=3):\n",
    "       #  \"\"\"\n",
    "       # This function creates one expansive block\n",
    "       # \"\"\"\n",
    "            block = torch.nn.Sequential(\n",
    "                    torch.nn.Conv2d(kernel_size=kernel_size, in_channels=in_channels, out_channels=mid_channel),\n",
    "                    torch.nn.ReLU(),\n",
    "                   # torch.nn.BatchNorm2d(mid_channel),\n",
    "                    torch.nn.Conv2d(kernel_size=kernel_size, in_channels=mid_channel, out_channels=mid_channel),\n",
    "                    torch.nn.ReLU(),\n",
    "                   # torch.nn.BatchNorm2d(mid_channel),\n",
    "                    torch.nn.ConvTranspose2d(in_channels=mid_channel, out_channels=out_channels, kernel_size=3, stride=2, padding=1, output_padding=1)\n",
    "                    )\n",
    "            return  block\n",
    "\n",
    "    def final_block(self, in_channels, mid_channel, out_channels, kernel_size=3):\n",
    "       #  \"\"\"\n",
    "       # This returns final block\n",
    "       # \"\"\"\n",
    "        block = torch.nn.Sequential(\n",
    "                torch.nn.Conv2d(kernel_size=kernel_size, in_channels=in_channels, out_channels=mid_channel),\n",
    "                torch.nn.ReLU(),\n",
    "               # torch.nn.BatchNorm2d(mid_channel),\n",
    "                torch.nn.Conv2d(kernel_size=kernel_size, in_channels=mid_channel, out_channels=mid_channel),\n",
    "                torch.nn.ReLU(),\n",
    "               # torch.nn.BatchNorm2d(mid_channel),\n",
    "                torch.nn.Conv2d(kernel_size=kernel_size, in_channels=mid_channel, out_channels=out_channels, padding=1),\n",
    "                torch.nn.ReLU(),\n",
    "               # torch.nn.BatchNorm2d(out_channels),\n",
    "                )\n",
    "        return  block\n",
    "\n",
    "    def __init__(self, in_channel, out_channel):\n",
    "        super(UNet, self).__init__()\n",
    "        #Encode\n",
    "        self.conv_encode1 = self.contracting_block(in_channels=in_channel, out_channels=64)\n",
    "        self.conv_maxpool1 = torch.nn.MaxPool2d(kernel_size=2)\n",
    "        self.conv_encode2 = self.contracting_block(64, 128)\n",
    "        self.conv_maxpool2 = torch.nn.MaxPool2d(kernel_size=2)\n",
    "        self.conv_encode3 = self.contracting_block(128, 256)\n",
    "        self.conv_maxpool3 = torch.nn.MaxPool2d(kernel_size=2)\n",
    "        # Bottleneck\n",
    "        self.bottleneck = torch.nn.Sequential(\n",
    "                            torch.nn.Conv2d(kernel_size=3, in_channels=256, out_channels=512),\n",
    "                            torch.nn.ReLU(),\n",
    "                          #  torch.nn.BatchNorm2d(512),\n",
    "                            torch.nn.Conv2d(kernel_size=3, in_channels=512, out_channels=512),\n",
    "                            torch.nn.ReLU(),\n",
    "                          #  torch.nn.BatchNorm2d(512),\n",
    "                            torch.nn.ConvTranspose2d(in_channels=512, out_channels=256, kernel_size=3, stride=2, padding=1, output_padding=1)\n",
    "                            )\n",
    "        # Decode\n",
    "        self.conv_decode3 = self.expansive_block(512, 256, 128)\n",
    "        self.conv_decode2 = self.expansive_block(256, 128, 64)\n",
    "        self.final_layer = self.final_block(128, 64, out_channel)\n",
    "\n",
    "    def crop_and_concat(self, upsampled, bypass, crop=False):\n",
    "      #  \"\"\"\n",
    "      #  This layer crop the layer from contraction block and concat it with expansive block vector\n",
    "      #  \"\"\"\n",
    "        if crop:\n",
    "            c = (bypass.size()[2] - upsampled.size()[2]) // 2\n",
    "            bypass = F.pad(bypass, (-c, -c, -c, -c))\n",
    "        return torch.cat((upsampled, bypass), 1)\n",
    "\n",
    "    def forward(self, x):\n",
    "        # Encode\n",
    "        print(x.shape)\n",
    "        encode_block1 = self.conv_encode1(x)\n",
    "        encode_pool1 = self.conv_maxpool1(encode_block1)\n",
    "        encode_block2 = self.conv_encode2(encode_pool1)\n",
    "        encode_pool2 = self.conv_maxpool2(encode_block2)\n",
    "        encode_block3 = self.conv_encode3(encode_pool2)\n",
    "        encode_pool3 = self.conv_maxpool3(encode_block3)\n",
    "        # Bottleneck\n",
    "        bottleneck1 = self.bottleneck(encode_pool3)\n",
    "        # Decode\n",
    "        decode_block3 = self.crop_and_concat(bottleneck1, encode_block3, crop=True)\n",
    "        cat_layer2 = self.conv_decode3(decode_block3)\n",
    "        decode_block2 = self.crop_and_concat(cat_layer2, encode_block2, crop=True)\n",
    "        cat_layer1 = self.conv_decode2(decode_block2)\n",
    "        decode_block1 = self.crop_and_concat(cat_layer1, encode_block1, crop=False)\n",
    "        final_layer = self.final_layer(decode_block1)\n",
    "        return  final_layer"
   ]
  },
  {
   "cell_type": "code",
   "execution_count": 14,
   "metadata": {},
   "outputs": [],
   "source": [
    "from torch import nn\n",
    "import torch\n",
    "from torch.utils.tensorboard import SummaryWriter\n",
    "\n",
    "\n",
    "def conv_block(in_dim, out_dim, act_fn):\n",
    "    model = nn.Sequential(\n",
    "        nn.Conv2d(in_dim, out_dim, kernel_size=3, stride=1, padding=1),\n",
    "        nn.BatchNorm2d(out_dim),\n",
    "        act_fn,\n",
    "    )\n",
    "    return model\n",
    "\n",
    "\n",
    "def conv_trans_block(in_dim, out_dim, act_fn):\n",
    "    model = nn.Sequential(\n",
    "        nn.ConvTranspose2d(in_dim, out_dim, kernel_size=3,\n",
    "                           stride=2, padding=1, output_padding=1),\n",
    "        nn.BatchNorm2d(out_dim),\n",
    "        act_fn,\n",
    "    )\n",
    "    return model\n",
    "\n",
    "\n",
    "def maxpool():\n",
    "    pool = nn.MaxPool2d(kernel_size=2, stride=2, padding=0)\n",
    "    return pool\n",
    "\n",
    "\n",
    "def conv_block_2(in_dim, out_dim, act_fn):\n",
    "    model = nn.Sequential(\n",
    "        conv_block(in_dim, out_dim, act_fn),\n",
    "        nn.Conv2d(out_dim, out_dim, kernel_size=3, stride=1, padding=1),\n",
    "        nn.BatchNorm2d(out_dim),\n",
    "    )\n",
    "    return model\n",
    "\n",
    "\n",
    "def conv_block_3(in_dim, out_dim, act_fn):\n",
    "    model = nn.Sequential(\n",
    "        conv_block(in_dim, out_dim, act_fn),\n",
    "        conv_block(out_dim, out_dim, act_fn),\n",
    "        nn.Conv2d(out_dim, out_dim, kernel_size=3, stride=1, padding=1),\n",
    "        nn.BatchNorm2d(out_dim),\n",
    "    )\n",
    "    return model\n",
    "\n",
    "\n",
    "class UnetGenerator(nn.Module):\n",
    "\n",
    "    def __init__(self, in_dim, out_dim, num_filter):\n",
    "        super(UnetGenerator, self).__init__()\n",
    "        self.in_dim = in_dim\n",
    "        self.out_dim = out_dim\n",
    "        self.num_filter = num_filter\n",
    "        act_fn = nn.LeakyReLU(0.2, inplace=True)\n",
    "\n",
    "        self.down_1 = conv_block_2(self.in_dim, self.num_filter, act_fn)\n",
    "        self.pool_1 = maxpool()\n",
    "        self.down_2 = conv_block_2(\n",
    "            self.num_filter*1, self.num_filter*2, act_fn)\n",
    "        self.pool_2 = maxpool()\n",
    "        self.down_3 = conv_block_2(\n",
    "            self.num_filter*2, self.num_filter*4, act_fn)\n",
    "        self.pool_3 = maxpool()\n",
    "        self.down_4 = conv_block_2(\n",
    "            self.num_filter*4, self.num_filter*8, act_fn)\n",
    "        self.pool_4 = maxpool()\n",
    "\n",
    "        self.bridge = conv_block_2(\n",
    "            self.num_filter*8, self.num_filter*16, act_fn)\n",
    "\n",
    "        self.trans_1 = conv_trans_block(\n",
    "            self.num_filter*16, self.num_filter*8, act_fn)\n",
    "        self.up_1 = conv_block_2(self.num_filter*16, self.num_filter*8, act_fn)\n",
    "        self.trans_2 = conv_trans_block(\n",
    "            self.num_filter*8, self.num_filter*4, act_fn)\n",
    "        self.up_2 = conv_block_2(self.num_filter*8, self.num_filter*4, act_fn)\n",
    "        self.trans_3 = conv_trans_block(\n",
    "            self.num_filter*4, self.num_filter*2, act_fn)\n",
    "        self.up_3 = conv_block_2(self.num_filter*4, self.num_filter*2, act_fn)\n",
    "        self.trans_4 = conv_trans_block(\n",
    "            self.num_filter*2, self.num_filter*1, act_fn)\n",
    "        self.up_4 = conv_block_2(self.num_filter*2, self.num_filter*1, act_fn)\n",
    "\n",
    "        self.segmentor = nn.Sequential(\n",
    "            nn.Conv2d(self.num_filter, self.out_dim, 3, 1, 1),\n",
    "            nn.Sigmoid(),\n",
    "        )\n",
    "        # to do change to linear \n",
    "        self.reconstructor = nn.Sequential(\n",
    "            nn.Conv2d(self.num_filter, self.out_dim, 3, 1, 1),\n",
    "            nn.Tanh(),\n",
    "        )\n",
    "\n",
    "    def forward(self, input):\n",
    "        down_1 = self.down_1(input)\n",
    "        pool_1 = self.pool_1(down_1)\n",
    "        down_2 = self.down_2(pool_1)\n",
    "        pool_2 = self.pool_2(down_2)\n",
    "        down_3 = self.down_3(pool_2)\n",
    "        pool_3 = self.pool_3(down_3)\n",
    "        down_4 = self.down_4(pool_3)\n",
    "        pool_4 = self.pool_4(down_4)\n",
    "        bridge = self.bridge(pool_4)\n",
    "        #print('bridge.shape = ')\n",
    "        # print(bridge.shape)\n",
    "\n",
    "        trans_1 = self.trans_1(bridge)\n",
    "        #print('trans_1.shape = ')\n",
    "        # print(trans_1.shape)\n",
    "\n",
    "        concat_1 = torch.cat([trans_1, down_4], dim=1)\n",
    "        up_1 = self.up_1(concat_1)\n",
    "        trans_2 = self.trans_2(up_1)\n",
    "        concat_2 = torch.cat([trans_2, down_3], dim=1)\n",
    "        up_2 = self.up_2(concat_2)\n",
    "        trans_3 = self.trans_3(up_2)\n",
    "        concat_3 = torch.cat([trans_3, down_2], dim=1)\n",
    "        up_3 = self.up_3(concat_3)\n",
    "        trans_4 = self.trans_4(up_3)\n",
    "        concat_4 = torch.cat([trans_4, down_1], dim=1)\n",
    "        up_4 = self.up_4(concat_4)\n",
    "        #print('up_4.shape = ')\n",
    "        # print(up_4.shape)\n",
    "\n",
    "        out_seg = self.segmentor(up_4)\n",
    "        out_rec = self.reconstructor(up_4)\n",
    "\n",
    "        return out_seg"
   ]
  },
  {
   "cell_type": "code",
   "execution_count": 16,
   "metadata": {
    "id": "47uVHp-YpGAf"
   },
   "outputs": [],
   "source": [
    "net = UnetGenerator(3, 1, 8)\n",
    "# net = UNet(in_channel= 1,out_channel=1)\n",
    "#unet = unet.cuda()\n",
    "device = torch.device(\"cuda\" if torch.cuda.is_available() else \"cpu\")"
   ]
  },
  {
   "cell_type": "code",
   "execution_count": 17,
   "metadata": {
    "id": "LmnLVvWqpoEm"
   },
   "outputs": [],
   "source": [
    "criterion = torch.nn.CrossEntropyLoss()\n",
    "optimizer = torch.optim.SGD(net.parameters(), lr = 0.01, momentum=0.99)"
   ]
  },
  {
   "cell_type": "markdown",
   "metadata": {
    "id": "hR1boKDAptcA"
   },
   "source": [
    "# **Entrenamiento**\n"
   ]
  },
  {
   "cell_type": "code",
   "execution_count": 22,
   "metadata": {
    "colab": {
     "base_uri": "https://localhost:8080/",
     "height": 388
    },
    "id": "SHjOuTZmtd3o",
    "outputId": "4135f459-72d2-489b-88ad-061941982581"
   },
   "outputs": [
    {
     "name": "stdout",
     "output_type": "stream",
     "text": [
      "torch.Size([24, 3, 32, 32])\n",
      "torch.Size([24, 1, 32, 32])\n"
     ]
    },
    {
     "ename": "ValueError",
     "evalue": "Expected input batch_size (24) to match target batch_size (1).",
     "output_type": "error",
     "traceback": [
      "\u001b[0;31m---------------------------------------------------------------------------\u001b[0m",
      "\u001b[0;31mValueError\u001b[0m                                Traceback (most recent call last)",
      "\u001b[0;32m<ipython-input-22-4d5fff4a4d5b>\u001b[0m in \u001b[0;36m<module>\u001b[0;34m\u001b[0m\n\u001b[1;32m     19\u001b[0m                 \u001b[0moutputs\u001b[0m \u001b[0;34m=\u001b[0m \u001b[0mnet\u001b[0m\u001b[0;34m(\u001b[0m\u001b[0minputs\u001b[0m\u001b[0;34m)\u001b[0m\u001b[0;34m\u001b[0m\u001b[0;34m\u001b[0m\u001b[0m\n\u001b[1;32m     20\u001b[0m                 \u001b[0mprint\u001b[0m\u001b[0;34m(\u001b[0m\u001b[0moutputs\u001b[0m\u001b[0;34m.\u001b[0m\u001b[0mshape\u001b[0m\u001b[0;34m)\u001b[0m\u001b[0;34m\u001b[0m\u001b[0;34m\u001b[0m\u001b[0m\n\u001b[0;32m---> 21\u001b[0;31m                 \u001b[0mloss\u001b[0m \u001b[0;34m=\u001b[0m \u001b[0mcriterion\u001b[0m\u001b[0;34m(\u001b[0m\u001b[0moutputs\u001b[0m\u001b[0;34m,\u001b[0m \u001b[0mlabels\u001b[0m\u001b[0;34m.\u001b[0m\u001b[0mview\u001b[0m\u001b[0;34m(\u001b[0m\u001b[0;36m1\u001b[0m\u001b[0;34m,\u001b[0m\u001b[0;34m-\u001b[0m\u001b[0;36m1\u001b[0m\u001b[0;34m)\u001b[0m\u001b[0;34m)\u001b[0m\u001b[0;34m\u001b[0m\u001b[0;34m\u001b[0m\u001b[0m\n\u001b[0m\u001b[1;32m     22\u001b[0m                 \u001b[0;32mif\u001b[0m \u001b[0mphase\u001b[0m \u001b[0;34m==\u001b[0m \u001b[0mpartitions\u001b[0m\u001b[0;34m[\u001b[0m\u001b[0;36m0\u001b[0m\u001b[0;34m]\u001b[0m\u001b[0;34m:\u001b[0m\u001b[0;34m\u001b[0m\u001b[0;34m\u001b[0m\u001b[0m\n\u001b[1;32m     23\u001b[0m                     \u001b[0mloss\u001b[0m\u001b[0;34m.\u001b[0m\u001b[0mbackward\u001b[0m\u001b[0;34m(\u001b[0m\u001b[0;34m)\u001b[0m\u001b[0;34m\u001b[0m\u001b[0;34m\u001b[0m\u001b[0m\n",
      "\u001b[0;32m~/.local/lib/python3.8/site-packages/torch/nn/modules/module.py\u001b[0m in \u001b[0;36m_call_impl\u001b[0;34m(self, *input, **kwargs)\u001b[0m\n\u001b[1;32m    725\u001b[0m             \u001b[0mresult\u001b[0m \u001b[0;34m=\u001b[0m \u001b[0mself\u001b[0m\u001b[0;34m.\u001b[0m\u001b[0m_slow_forward\u001b[0m\u001b[0;34m(\u001b[0m\u001b[0;34m*\u001b[0m\u001b[0minput\u001b[0m\u001b[0;34m,\u001b[0m \u001b[0;34m**\u001b[0m\u001b[0mkwargs\u001b[0m\u001b[0;34m)\u001b[0m\u001b[0;34m\u001b[0m\u001b[0;34m\u001b[0m\u001b[0m\n\u001b[1;32m    726\u001b[0m         \u001b[0;32melse\u001b[0m\u001b[0;34m:\u001b[0m\u001b[0;34m\u001b[0m\u001b[0;34m\u001b[0m\u001b[0m\n\u001b[0;32m--> 727\u001b[0;31m             \u001b[0mresult\u001b[0m \u001b[0;34m=\u001b[0m \u001b[0mself\u001b[0m\u001b[0;34m.\u001b[0m\u001b[0mforward\u001b[0m\u001b[0;34m(\u001b[0m\u001b[0;34m*\u001b[0m\u001b[0minput\u001b[0m\u001b[0;34m,\u001b[0m \u001b[0;34m**\u001b[0m\u001b[0mkwargs\u001b[0m\u001b[0;34m)\u001b[0m\u001b[0;34m\u001b[0m\u001b[0;34m\u001b[0m\u001b[0m\n\u001b[0m\u001b[1;32m    728\u001b[0m         for hook in itertools.chain(\n\u001b[1;32m    729\u001b[0m                 \u001b[0m_global_forward_hooks\u001b[0m\u001b[0;34m.\u001b[0m\u001b[0mvalues\u001b[0m\u001b[0;34m(\u001b[0m\u001b[0;34m)\u001b[0m\u001b[0;34m,\u001b[0m\u001b[0;34m\u001b[0m\u001b[0;34m\u001b[0m\u001b[0m\n",
      "\u001b[0;32m~/.local/lib/python3.8/site-packages/torch/nn/modules/loss.py\u001b[0m in \u001b[0;36mforward\u001b[0;34m(self, input, target)\u001b[0m\n\u001b[1;32m    959\u001b[0m \u001b[0;34m\u001b[0m\u001b[0m\n\u001b[1;32m    960\u001b[0m     \u001b[0;32mdef\u001b[0m \u001b[0mforward\u001b[0m\u001b[0;34m(\u001b[0m\u001b[0mself\u001b[0m\u001b[0;34m,\u001b[0m \u001b[0minput\u001b[0m\u001b[0;34m:\u001b[0m \u001b[0mTensor\u001b[0m\u001b[0;34m,\u001b[0m \u001b[0mtarget\u001b[0m\u001b[0;34m:\u001b[0m \u001b[0mTensor\u001b[0m\u001b[0;34m)\u001b[0m \u001b[0;34m->\u001b[0m \u001b[0mTensor\u001b[0m\u001b[0;34m:\u001b[0m\u001b[0;34m\u001b[0m\u001b[0;34m\u001b[0m\u001b[0m\n\u001b[0;32m--> 961\u001b[0;31m         return F.cross_entropy(input, target, weight=self.weight,\n\u001b[0m\u001b[1;32m    962\u001b[0m                                ignore_index=self.ignore_index, reduction=self.reduction)\n\u001b[1;32m    963\u001b[0m \u001b[0;34m\u001b[0m\u001b[0m\n",
      "\u001b[0;32m~/.local/lib/python3.8/site-packages/torch/nn/functional.py\u001b[0m in \u001b[0;36mcross_entropy\u001b[0;34m(input, target, weight, size_average, ignore_index, reduce, reduction)\u001b[0m\n\u001b[1;32m   2466\u001b[0m     \u001b[0;32mif\u001b[0m \u001b[0msize_average\u001b[0m \u001b[0;32mis\u001b[0m \u001b[0;32mnot\u001b[0m \u001b[0;32mNone\u001b[0m \u001b[0;32mor\u001b[0m \u001b[0mreduce\u001b[0m \u001b[0;32mis\u001b[0m \u001b[0;32mnot\u001b[0m \u001b[0;32mNone\u001b[0m\u001b[0;34m:\u001b[0m\u001b[0;34m\u001b[0m\u001b[0;34m\u001b[0m\u001b[0m\n\u001b[1;32m   2467\u001b[0m         \u001b[0mreduction\u001b[0m \u001b[0;34m=\u001b[0m \u001b[0m_Reduction\u001b[0m\u001b[0;34m.\u001b[0m\u001b[0mlegacy_get_string\u001b[0m\u001b[0;34m(\u001b[0m\u001b[0msize_average\u001b[0m\u001b[0;34m,\u001b[0m \u001b[0mreduce\u001b[0m\u001b[0;34m)\u001b[0m\u001b[0;34m\u001b[0m\u001b[0;34m\u001b[0m\u001b[0m\n\u001b[0;32m-> 2468\u001b[0;31m     \u001b[0;32mreturn\u001b[0m \u001b[0mnll_loss\u001b[0m\u001b[0;34m(\u001b[0m\u001b[0mlog_softmax\u001b[0m\u001b[0;34m(\u001b[0m\u001b[0minput\u001b[0m\u001b[0;34m,\u001b[0m \u001b[0;36m1\u001b[0m\u001b[0;34m)\u001b[0m\u001b[0;34m,\u001b[0m \u001b[0mtarget\u001b[0m\u001b[0;34m,\u001b[0m \u001b[0mweight\u001b[0m\u001b[0;34m,\u001b[0m \u001b[0;32mNone\u001b[0m\u001b[0;34m,\u001b[0m \u001b[0mignore_index\u001b[0m\u001b[0;34m,\u001b[0m \u001b[0;32mNone\u001b[0m\u001b[0;34m,\u001b[0m \u001b[0mreduction\u001b[0m\u001b[0;34m)\u001b[0m\u001b[0;34m\u001b[0m\u001b[0;34m\u001b[0m\u001b[0m\n\u001b[0m\u001b[1;32m   2469\u001b[0m \u001b[0;34m\u001b[0m\u001b[0m\n\u001b[1;32m   2470\u001b[0m \u001b[0;34m\u001b[0m\u001b[0m\n",
      "\u001b[0;32m~/.local/lib/python3.8/site-packages/torch/nn/functional.py\u001b[0m in \u001b[0;36mnll_loss\u001b[0;34m(input, target, weight, size_average, ignore_index, reduce, reduction)\u001b[0m\n\u001b[1;32m   2259\u001b[0m \u001b[0;34m\u001b[0m\u001b[0m\n\u001b[1;32m   2260\u001b[0m     \u001b[0;32mif\u001b[0m \u001b[0minput\u001b[0m\u001b[0;34m.\u001b[0m\u001b[0msize\u001b[0m\u001b[0;34m(\u001b[0m\u001b[0;36m0\u001b[0m\u001b[0;34m)\u001b[0m \u001b[0;34m!=\u001b[0m \u001b[0mtarget\u001b[0m\u001b[0;34m.\u001b[0m\u001b[0msize\u001b[0m\u001b[0;34m(\u001b[0m\u001b[0;36m0\u001b[0m\u001b[0;34m)\u001b[0m\u001b[0;34m:\u001b[0m\u001b[0;34m\u001b[0m\u001b[0;34m\u001b[0m\u001b[0m\n\u001b[0;32m-> 2261\u001b[0;31m         raise ValueError('Expected input batch_size ({}) to match target batch_size ({}).'\n\u001b[0m\u001b[1;32m   2262\u001b[0m                          .format(input.size(0), target.size(0)))\n\u001b[1;32m   2263\u001b[0m     \u001b[0;32mif\u001b[0m \u001b[0mdim\u001b[0m \u001b[0;34m==\u001b[0m \u001b[0;36m2\u001b[0m\u001b[0;34m:\u001b[0m\u001b[0;34m\u001b[0m\u001b[0;34m\u001b[0m\u001b[0m\n",
      "\u001b[0;31mValueError\u001b[0m: Expected input batch_size (24) to match target batch_size (1)."
     ]
    }
   ],
   "source": [
    "for epoch in range(10):  # \n",
    "    for phase in partitions:\n",
    "        \n",
    "        if phase == partitions[0]:\n",
    "            net.train()\n",
    "        else:\n",
    "            net.eval() \n",
    "\n",
    "        running_loss = 0.0\n",
    "        for i, data in enumerate(dataloaders[phase]):\n",
    "            # Obtener los datos\n",
    "            inputs, labels = data\n",
    "            print(inputs.shape)\n",
    "            \n",
    "            # Inicializar los gradientes \n",
    "            optimizer.zero_grad()\n",
    "            with torch.set_grad_enabled(phase == partitions[0]):\n",
    "                # forward + backward + optimize\n",
    "                outputs = net(inputs)\n",
    "                print(outputs.shape)\n",
    "                # to do: verificar la dimension de output == dimension del label\n",
    "                # \n",
    "                loss = criterion(outputs, labels.view(1,-1))\n",
    "                if phase == partitions[0]: \n",
    "                    loss.backward()\n",
    "                    optimizer.step()\n",
    "\n",
    "            # print statistics\n",
    "            running_loss += loss.item()\n",
    "        loss_epoch =  running_loss / float(len(dataloaders[phase]))\n",
    "        if i % 2000 == 1999:    # print every 2000 mini-batches\n",
    "            print('[%d, %5d] loss: %.3f' %\n",
    "                  (epoch + 1, i + 1, loss_epoch))\n",
    "#                 running_loss = 0.0\n",
    "\n",
    "print('Finished Training')\n"
   ]
  },
  {
   "cell_type": "code",
   "execution_count": null,
   "metadata": {
    "colab": {
     "base_uri": "https://localhost:8080/",
     "height": 370
    },
    "id": "X6oPpm-zJS2b",
    "outputId": "525fcd1e-f4d4-4d25-905f-08649a25b3a1"
   },
   "outputs": [
    {
     "ename": "RuntimeError",
     "evalue": "ignored",
     "output_type": "error",
     "traceback": [
      "\u001b[0;31m---------------------------------------------------------------------------\u001b[0m",
      "\u001b[0;31mRuntimeError\u001b[0m                              Traceback (most recent call last)",
      "\u001b[0;32m<ipython-input-12-212b569a0fe3>\u001b[0m in \u001b[0;36m<module>\u001b[0;34m()\u001b[0m\n\u001b[1;32m     19\u001b[0m         \u001b[0moptimizer\u001b[0m\u001b[0;34m.\u001b[0m\u001b[0mzero_grad\u001b[0m\u001b[0;34m(\u001b[0m\u001b[0;34m)\u001b[0m\u001b[0;34m\u001b[0m\u001b[0;34m\u001b[0m\u001b[0m\n\u001b[1;32m     20\u001b[0m         \u001b[0;31m# forward pass: compute predicted outputs by passing inputs to the model\u001b[0m\u001b[0;34m\u001b[0m\u001b[0;34m\u001b[0m\u001b[0;34m\u001b[0m\u001b[0m\n\u001b[0;32m---> 21\u001b[0;31m         \u001b[0moutput\u001b[0m \u001b[0;34m=\u001b[0m \u001b[0mnet\u001b[0m\u001b[0;34m(\u001b[0m\u001b[0mdata\u001b[0m\u001b[0;34m)\u001b[0m\u001b[0;34m\u001b[0m\u001b[0;34m\u001b[0m\u001b[0m\n\u001b[0m\u001b[1;32m     22\u001b[0m         \u001b[0;31m# calculate the batch loss\u001b[0m\u001b[0;34m\u001b[0m\u001b[0;34m\u001b[0m\u001b[0;34m\u001b[0m\u001b[0m\n\u001b[1;32m     23\u001b[0m         \u001b[0mloss\u001b[0m \u001b[0;34m=\u001b[0m \u001b[0mcriterion\u001b[0m\u001b[0;34m(\u001b[0m\u001b[0moutput\u001b[0m\u001b[0;34m,\u001b[0m \u001b[0mtarget\u001b[0m\u001b[0;34m)\u001b[0m\u001b[0;34m\u001b[0m\u001b[0;34m\u001b[0m\u001b[0m\n",
      "\u001b[0;32m/usr/local/lib/python3.7/dist-packages/torch/nn/modules/module.py\u001b[0m in \u001b[0;36m_call_impl\u001b[0;34m(self, *input, **kwargs)\u001b[0m\n\u001b[1;32m   1049\u001b[0m         if not (self._backward_hooks or self._forward_hooks or self._forward_pre_hooks or _global_backward_hooks\n\u001b[1;32m   1050\u001b[0m                 or _global_forward_hooks or _global_forward_pre_hooks):\n\u001b[0;32m-> 1051\u001b[0;31m             \u001b[0;32mreturn\u001b[0m \u001b[0mforward_call\u001b[0m\u001b[0;34m(\u001b[0m\u001b[0;34m*\u001b[0m\u001b[0minput\u001b[0m\u001b[0;34m,\u001b[0m \u001b[0;34m**\u001b[0m\u001b[0mkwargs\u001b[0m\u001b[0;34m)\u001b[0m\u001b[0;34m\u001b[0m\u001b[0;34m\u001b[0m\u001b[0m\n\u001b[0m\u001b[1;32m   1052\u001b[0m         \u001b[0;31m# Do not call functions when jit is used\u001b[0m\u001b[0;34m\u001b[0m\u001b[0;34m\u001b[0m\u001b[0;34m\u001b[0m\u001b[0m\n\u001b[1;32m   1053\u001b[0m         \u001b[0mfull_backward_hooks\u001b[0m\u001b[0;34m,\u001b[0m \u001b[0mnon_full_backward_hooks\u001b[0m \u001b[0;34m=\u001b[0m \u001b[0;34m[\u001b[0m\u001b[0;34m]\u001b[0m\u001b[0;34m,\u001b[0m \u001b[0;34m[\u001b[0m\u001b[0;34m]\u001b[0m\u001b[0;34m\u001b[0m\u001b[0;34m\u001b[0m\u001b[0m\n",
      "\u001b[0;32m<ipython-input-6-3e4a97cc1f2d>\u001b[0m in \u001b[0;36mforward\u001b[0;34m(self, x)\u001b[0m\n\u001b[1;32m     81\u001b[0m     \u001b[0;32mdef\u001b[0m \u001b[0mforward\u001b[0m\u001b[0;34m(\u001b[0m\u001b[0mself\u001b[0m\u001b[0;34m,\u001b[0m \u001b[0mx\u001b[0m\u001b[0;34m)\u001b[0m\u001b[0;34m:\u001b[0m\u001b[0;34m\u001b[0m\u001b[0;34m\u001b[0m\u001b[0m\n\u001b[1;32m     82\u001b[0m         \u001b[0;31m# Encode\u001b[0m\u001b[0;34m\u001b[0m\u001b[0;34m\u001b[0m\u001b[0;34m\u001b[0m\u001b[0m\n\u001b[0;32m---> 83\u001b[0;31m         \u001b[0mencode_block1\u001b[0m \u001b[0;34m=\u001b[0m \u001b[0mself\u001b[0m\u001b[0;34m.\u001b[0m\u001b[0mconv_encode1\u001b[0m\u001b[0;34m(\u001b[0m\u001b[0mx\u001b[0m\u001b[0;34m)\u001b[0m\u001b[0;34m\u001b[0m\u001b[0;34m\u001b[0m\u001b[0m\n\u001b[0m\u001b[1;32m     84\u001b[0m         \u001b[0mencode_pool1\u001b[0m \u001b[0;34m=\u001b[0m \u001b[0mself\u001b[0m\u001b[0;34m.\u001b[0m\u001b[0mconv_maxpool1\u001b[0m\u001b[0;34m(\u001b[0m\u001b[0mencode_block1\u001b[0m\u001b[0;34m)\u001b[0m\u001b[0;34m\u001b[0m\u001b[0;34m\u001b[0m\u001b[0m\n\u001b[1;32m     85\u001b[0m         \u001b[0mencode_block2\u001b[0m \u001b[0;34m=\u001b[0m \u001b[0mself\u001b[0m\u001b[0;34m.\u001b[0m\u001b[0mconv_encode2\u001b[0m\u001b[0;34m(\u001b[0m\u001b[0mencode_pool1\u001b[0m\u001b[0;34m)\u001b[0m\u001b[0;34m\u001b[0m\u001b[0;34m\u001b[0m\u001b[0m\n",
      "\u001b[0;32m/usr/local/lib/python3.7/dist-packages/torch/nn/modules/module.py\u001b[0m in \u001b[0;36m_call_impl\u001b[0;34m(self, *input, **kwargs)\u001b[0m\n\u001b[1;32m   1049\u001b[0m         if not (self._backward_hooks or self._forward_hooks or self._forward_pre_hooks or _global_backward_hooks\n\u001b[1;32m   1050\u001b[0m                 or _global_forward_hooks or _global_forward_pre_hooks):\n\u001b[0;32m-> 1051\u001b[0;31m             \u001b[0;32mreturn\u001b[0m \u001b[0mforward_call\u001b[0m\u001b[0;34m(\u001b[0m\u001b[0;34m*\u001b[0m\u001b[0minput\u001b[0m\u001b[0;34m,\u001b[0m \u001b[0;34m**\u001b[0m\u001b[0mkwargs\u001b[0m\u001b[0;34m)\u001b[0m\u001b[0;34m\u001b[0m\u001b[0;34m\u001b[0m\u001b[0m\n\u001b[0m\u001b[1;32m   1052\u001b[0m         \u001b[0;31m# Do not call functions when jit is used\u001b[0m\u001b[0;34m\u001b[0m\u001b[0;34m\u001b[0m\u001b[0;34m\u001b[0m\u001b[0m\n\u001b[1;32m   1053\u001b[0m         \u001b[0mfull_backward_hooks\u001b[0m\u001b[0;34m,\u001b[0m \u001b[0mnon_full_backward_hooks\u001b[0m \u001b[0;34m=\u001b[0m \u001b[0;34m[\u001b[0m\u001b[0;34m]\u001b[0m\u001b[0;34m,\u001b[0m \u001b[0;34m[\u001b[0m\u001b[0;34m]\u001b[0m\u001b[0;34m\u001b[0m\u001b[0;34m\u001b[0m\u001b[0m\n",
      "\u001b[0;32m/usr/local/lib/python3.7/dist-packages/torch/nn/modules/container.py\u001b[0m in \u001b[0;36mforward\u001b[0;34m(self, input)\u001b[0m\n\u001b[1;32m    137\u001b[0m     \u001b[0;32mdef\u001b[0m \u001b[0mforward\u001b[0m\u001b[0;34m(\u001b[0m\u001b[0mself\u001b[0m\u001b[0;34m,\u001b[0m \u001b[0minput\u001b[0m\u001b[0;34m)\u001b[0m\u001b[0;34m:\u001b[0m\u001b[0;34m\u001b[0m\u001b[0;34m\u001b[0m\u001b[0m\n\u001b[1;32m    138\u001b[0m         \u001b[0;32mfor\u001b[0m \u001b[0mmodule\u001b[0m \u001b[0;32min\u001b[0m \u001b[0mself\u001b[0m\u001b[0;34m:\u001b[0m\u001b[0;34m\u001b[0m\u001b[0;34m\u001b[0m\u001b[0m\n\u001b[0;32m--> 139\u001b[0;31m             \u001b[0minput\u001b[0m \u001b[0;34m=\u001b[0m \u001b[0mmodule\u001b[0m\u001b[0;34m(\u001b[0m\u001b[0minput\u001b[0m\u001b[0;34m)\u001b[0m\u001b[0;34m\u001b[0m\u001b[0;34m\u001b[0m\u001b[0m\n\u001b[0m\u001b[1;32m    140\u001b[0m         \u001b[0;32mreturn\u001b[0m \u001b[0minput\u001b[0m\u001b[0;34m\u001b[0m\u001b[0;34m\u001b[0m\u001b[0m\n\u001b[1;32m    141\u001b[0m \u001b[0;34m\u001b[0m\u001b[0m\n",
      "\u001b[0;32m/usr/local/lib/python3.7/dist-packages/torch/nn/modules/module.py\u001b[0m in \u001b[0;36m_call_impl\u001b[0;34m(self, *input, **kwargs)\u001b[0m\n\u001b[1;32m   1049\u001b[0m         if not (self._backward_hooks or self._forward_hooks or self._forward_pre_hooks or _global_backward_hooks\n\u001b[1;32m   1050\u001b[0m                 or _global_forward_hooks or _global_forward_pre_hooks):\n\u001b[0;32m-> 1051\u001b[0;31m             \u001b[0;32mreturn\u001b[0m \u001b[0mforward_call\u001b[0m\u001b[0;34m(\u001b[0m\u001b[0;34m*\u001b[0m\u001b[0minput\u001b[0m\u001b[0;34m,\u001b[0m \u001b[0;34m**\u001b[0m\u001b[0mkwargs\u001b[0m\u001b[0;34m)\u001b[0m\u001b[0;34m\u001b[0m\u001b[0;34m\u001b[0m\u001b[0m\n\u001b[0m\u001b[1;32m   1052\u001b[0m         \u001b[0;31m# Do not call functions when jit is used\u001b[0m\u001b[0;34m\u001b[0m\u001b[0;34m\u001b[0m\u001b[0;34m\u001b[0m\u001b[0m\n\u001b[1;32m   1053\u001b[0m         \u001b[0mfull_backward_hooks\u001b[0m\u001b[0;34m,\u001b[0m \u001b[0mnon_full_backward_hooks\u001b[0m \u001b[0;34m=\u001b[0m \u001b[0;34m[\u001b[0m\u001b[0;34m]\u001b[0m\u001b[0;34m,\u001b[0m \u001b[0;34m[\u001b[0m\u001b[0;34m]\u001b[0m\u001b[0;34m\u001b[0m\u001b[0;34m\u001b[0m\u001b[0m\n",
      "\u001b[0;32m/usr/local/lib/python3.7/dist-packages/torch/nn/modules/conv.py\u001b[0m in \u001b[0;36mforward\u001b[0;34m(self, input)\u001b[0m\n\u001b[1;32m    441\u001b[0m \u001b[0;34m\u001b[0m\u001b[0m\n\u001b[1;32m    442\u001b[0m     \u001b[0;32mdef\u001b[0m \u001b[0mforward\u001b[0m\u001b[0;34m(\u001b[0m\u001b[0mself\u001b[0m\u001b[0;34m,\u001b[0m \u001b[0minput\u001b[0m\u001b[0;34m:\u001b[0m \u001b[0mTensor\u001b[0m\u001b[0;34m)\u001b[0m \u001b[0;34m->\u001b[0m \u001b[0mTensor\u001b[0m\u001b[0;34m:\u001b[0m\u001b[0;34m\u001b[0m\u001b[0;34m\u001b[0m\u001b[0m\n\u001b[0;32m--> 443\u001b[0;31m         \u001b[0;32mreturn\u001b[0m \u001b[0mself\u001b[0m\u001b[0;34m.\u001b[0m\u001b[0m_conv_forward\u001b[0m\u001b[0;34m(\u001b[0m\u001b[0minput\u001b[0m\u001b[0;34m,\u001b[0m \u001b[0mself\u001b[0m\u001b[0;34m.\u001b[0m\u001b[0mweight\u001b[0m\u001b[0;34m,\u001b[0m \u001b[0mself\u001b[0m\u001b[0;34m.\u001b[0m\u001b[0mbias\u001b[0m\u001b[0;34m)\u001b[0m\u001b[0;34m\u001b[0m\u001b[0;34m\u001b[0m\u001b[0m\n\u001b[0m\u001b[1;32m    444\u001b[0m \u001b[0;34m\u001b[0m\u001b[0m\n\u001b[1;32m    445\u001b[0m \u001b[0;32mclass\u001b[0m \u001b[0mConv3d\u001b[0m\u001b[0;34m(\u001b[0m\u001b[0m_ConvNd\u001b[0m\u001b[0;34m)\u001b[0m\u001b[0;34m:\u001b[0m\u001b[0;34m\u001b[0m\u001b[0;34m\u001b[0m\u001b[0m\n",
      "\u001b[0;32m/usr/local/lib/python3.7/dist-packages/torch/nn/modules/conv.py\u001b[0m in \u001b[0;36m_conv_forward\u001b[0;34m(self, input, weight, bias)\u001b[0m\n\u001b[1;32m    438\u001b[0m                             _pair(0), self.dilation, self.groups)\n\u001b[1;32m    439\u001b[0m         return F.conv2d(input, weight, bias, self.stride,\n\u001b[0;32m--> 440\u001b[0;31m                         self.padding, self.dilation, self.groups)\n\u001b[0m\u001b[1;32m    441\u001b[0m \u001b[0;34m\u001b[0m\u001b[0m\n\u001b[1;32m    442\u001b[0m     \u001b[0;32mdef\u001b[0m \u001b[0mforward\u001b[0m\u001b[0;34m(\u001b[0m\u001b[0mself\u001b[0m\u001b[0;34m,\u001b[0m \u001b[0minput\u001b[0m\u001b[0;34m:\u001b[0m \u001b[0mTensor\u001b[0m\u001b[0;34m)\u001b[0m \u001b[0;34m->\u001b[0m \u001b[0mTensor\u001b[0m\u001b[0;34m:\u001b[0m\u001b[0;34m\u001b[0m\u001b[0;34m\u001b[0m\u001b[0m\n",
      "\u001b[0;31mRuntimeError\u001b[0m: Given groups=1, weight of size [64, 1, 3, 3], expected input[1, 3, 32, 32] to have 1 channels, but got 3 channels instead"
     ]
    }
   ],
   "source": [
    "n_epochs = 8 # you may increase this number to train a final model\n",
    "\n",
    "valid_loss_min = np.Inf # track change in validation loss\n",
    "\n",
    "for epoch in range(1, n_epochs+1):\n",
    "\n",
    "    # keep track of training and validation loss\n",
    "    train_loss = 0.0\n",
    "    valid_loss = 0.0\n",
    "    \n",
    "   \n",
    "    # train the model \n",
    "   \n",
    "    net.train()\n",
    "    for data, target in trainloader:\n",
    "       \n",
    "        #data, target = data.cuda(), target.cuda()\n",
    "        # clear the gradients of all optimized variables\n",
    "        optimizer.zero_grad()\n",
    "        # forward pass: compute predicted outputs by passing inputs to the model\n",
    "        output = net(data)\n",
    "        # calculate the batch loss\n",
    "        loss = criterion(output, target)\n",
    "        # backward pass: compute gradient of the loss with respect to model parameters\n",
    "        loss.backward()\n",
    "        # perform a single optimization step (parameter update)\n",
    "        optimizer.step()\n",
    "        # update training loss\n",
    "        train_loss += loss.item()*data.size(0)\n",
    "    \n",
    "    # validate the model \n",
    "   \n",
    "    net.eval()\n",
    "    for data, target in valLoader:\n",
    "        \n",
    "        data, target = data.cuda(), target.cuda()\n",
    "        # forward pass: compute predicted outputs by passing inputs to the model\n",
    "        output = net(data)\n",
    "        # calculate the batch loss\n",
    "        loss = criterion(output, target)\n",
    "        # update average validation loss \n",
    "        valid_loss += loss.item()*data.size(0)\n",
    "    \n",
    "    # calculate average losses\n",
    "    train_loss = train_loss/len(trainloader.dataset)\n",
    "    valid_loss = valid_loss/len(validLoader.dataset)\n",
    "        \n",
    "    # print training/validation statistics \n",
    "    print('Epoch: {} \\tTraining Loss: {:.6f} \\tValidation Loss: {:.6f}'.format(\n",
    "        epoch, train_loss, valid_loss))\n",
    "    \n",
    "    # save model if validation loss has decreased\n",
    "    if valid_loss <= valid_loss_min:\n",
    "        print('Validation loss decreased ({:.6f} --> {:.6f}).  Saving model ...'.format(\n",
    "        valid_loss_min,\n",
    "        valid_loss))\n",
    "        torch.save(net.state_dict(), 'model_cifar.pt')\n",
    "        valid_loss_min = valid_loss"
   ]
  },
  {
   "cell_type": "code",
   "execution_count": null,
   "metadata": {
    "id": "5Rk1y5ZkJSbF"
   },
   "outputs": [],
   "source": []
  },
  {
   "cell_type": "code",
   "execution_count": null,
   "metadata": {
    "id": "fkj62nsRzKkV"
   },
   "outputs": [],
   "source": [
    "PATH = './cifar_net.pth'\n",
    "torch.save(net.state_dict(), PATH)"
   ]
  },
  {
   "cell_type": "markdown",
   "metadata": {
    "id": "ih65BkE8zLWY"
   },
   "source": [
    "## Test"
   ]
  },
  {
   "cell_type": "markdown",
   "metadata": {
    "id": "uzG-7qfPzRCx"
   },
   "source": [
    "## Predicción"
   ]
  },
  {
   "cell_type": "code",
   "execution_count": null,
   "metadata": {
    "id": "uRbudCoJxibC"
   },
   "outputs": [],
   "source": [
    "\n",
    "\n",
    "# Predicción\n",
    "\n",
    "for data in testloader:\n",
    "    inputs, labels = data\n",
    "    inputs = inputs.cuda()\n",
    "    labels = labels.cuda()\n",
    "#     print(inputs.shape)\n",
    "  #  data_toDisplay = np.transpose(torchvision.utils.make_grid(inputs.cuda()), (1, 2, 0))\n",
    "    print('GroundTruth: ', ' '.join('%5s' % classes[labels[j]] for j in range(1)))\n",
    "    fig = plt.figure(figsize=(2,2))\n",
    "    plt.imshow(data_toDisplay)\n",
    "    plt.show()\n",
    "    \n",
    "    outputs = net(inputs.cuda())\n",
    "    _, predicted = torch.max(outputs, 1)\n",
    "    print('Predicted: ', ' '.join('%5s' % classes[predicted[j]]\n",
    "                              for j in range(1)))\n",
    "\n",
    "\n"
   ]
  },
  {
   "cell_type": "code",
   "execution_count": null,
   "metadata": {
    "id": "WtoKSevXxjgZ"
   },
   "outputs": [],
   "source": [
    "correct = 0\n",
    "total = 0\n",
    "net.eval()\n",
    "with torch.no_grad():\n",
    "    for data in testloader:\n",
    "        images, labels = data\n",
    "        # calculate outputs by running images through the network\n",
    "        outputs = net(images)\n",
    "        # the class with the highest energy is what we choose as prediction\n",
    "        _, predicted = torch.max(outputs.data, 1)\n",
    "        total += labels.size(0)\n",
    "        correct += (predicted == labels).sum().item()\n",
    "\n",
    "print('Accuracy of the network on the 10000 test images: %d %%' % (\n",
    "    100 * correct / total))\n",
    "\n"
   ]
  },
  {
   "cell_type": "code",
   "execution_count": null,
   "metadata": {
    "id": "Z5hNT2ljxkwJ"
   },
   "outputs": [],
   "source": [
    "# prepare to count predictions for each class\n",
    "correct_pred = {classname: 0 for classname in classes}\n",
    "total_pred = {classname: 0 for classname in classes}\n",
    "\n",
    "# again no gradients needed\n",
    "with torch.no_grad():\n",
    "    for data in testloader:\n",
    "        images, labels = data\n",
    "        outputs = net(images)\n",
    "        _, predictions = torch.max(outputs, 1)\n",
    "        # collect the correct predictions for each class\n",
    "        for label, prediction in zip(labels, predictions):\n",
    "            if label == prediction:\n",
    "                correct_pred[classes[label]] += 1\n",
    "            total_pred[classes[label]] += 1\n",
    "\n",
    "\n",
    "# print accuracy for each class\n",
    "for classname, correct_count in correct_pred.items():\n",
    "    accuracy = 100 * float(correct_count) / total_pred[classname]\n",
    "    print(\"Accuracy for class {:5s} is: {:.1f} %\".format(classname,\n",
    "                                                   accuracy))"
   ]
  },
  {
   "cell_type": "markdown",
   "metadata": {
    "id": "I7PXBLZ5JGTh"
   },
   "source": [
    "# **Data augmentation**"
   ]
  },
  {
   "cell_type": "code",
   "execution_count": null,
   "metadata": {},
   "outputs": [],
   "source": [
    "# To do : skimage, pytorch \n",
    "# definir la function de data augmentation dentro del dataloader\n",
    "# COmparar tu baseline con el modelo + dataaugmentation"
   ]
  },
  {
   "cell_type": "code",
   "execution_count": null,
   "metadata": {
    "id": "WR319wiRJJZ_"
   },
   "outputs": [],
   "source": [
    "from keras.datasets import cifar10\n",
    "from keras.preprocessing.image import ImageDataGenerator\n",
    "from matplotlib import pyplot\n",
    "from keras import backend as K\n",
    "import numpy as np"
   ]
  },
  {
   "cell_type": "code",
   "execution_count": null,
   "metadata": {
    "colab": {
     "base_uri": "https://localhost:8080/"
    },
    "id": "mEvkCkXYJsX6",
    "outputId": "1b1a41e5-6585-49be-87dc-6003ddea7360"
   },
   "outputs": [
    {
     "name": "stdout",
     "output_type": "stream",
     "text": [
      "Downloading data from https://www.cs.toronto.edu/~kriz/cifar-10-python.tar.gz\n",
      "170500096/170498071 [==============================] - 20s 0us/step\n",
      "170508288/170498071 [==============================] - 20s 0us/step\n"
     ]
    }
   ],
   "source": [
    "(X_train, y_train), (X_test, y_test) = cifar10.load_data()"
   ]
  },
  {
   "cell_type": "code",
   "execution_count": null,
   "metadata": {
    "id": "YhWicz7HJtdb"
   },
   "outputs": [],
   "source": [
    "X_train = X_train.astype('float32')\n",
    "X_test = X_test.astype('float32')"
   ]
  },
  {
   "cell_type": "markdown",
   "metadata": {
    "id": "0IOcvQygJw7B"
   },
   "source": [
    "Estandarización"
   ]
  },
  {
   "cell_type": "code",
   "execution_count": null,
   "metadata": {
    "id": "O7UKospHJy_q"
   },
   "outputs": [],
   "source": [
    "X_train/=255\n",
    "X_test/=255"
   ]
  },
  {
   "cell_type": "markdown",
   "metadata": {
    "id": "bN5VMFX6J1l7"
   },
   "source": [
    "Rotación de las imágenes"
   ]
  },
  {
   "cell_type": "code",
   "execution_count": null,
   "metadata": {
    "colab": {
     "base_uri": "https://localhost:8080/",
     "height": 268
    },
    "id": "EFocMeyvJzG6",
    "outputId": "3ea6e3bf-91c8-4a07-856d-0351612c6bc0"
   },
   "outputs": [
    {
     "data": {
      "image/png": "[encoded data removed]",
      "text/plain": [
       "<Figure size 432x288 with 4 Axes>"
      ]
     },
     "metadata": {
      "needs_background": "light"
     },
     "output_type": "display_data"
    }
   ],
   "source": [
    "datagen = ImageDataGenerator(rotation_range=359)\n",
    "datagen.fit(X_train)\n",
    "\n",
    "for X_batch, y_batch in datagen.flow(X_train, y_train, batch_size=4, seed=499):\n",
    "  for i in range(0,4):\n",
    "    pyplot.subplot(220 +1 +i)\n",
    "    pyplot.imshow(X_batch[i])\n",
    "  pyplot.show()\n",
    "  break"
   ]
  },
  {
   "cell_type": "markdown",
   "metadata": {
    "id": "n3hsncrNJ5-A"
   },
   "source": [
    "Desplazamiento vertical"
   ]
  },
  {
   "cell_type": "code",
   "execution_count": null,
   "metadata": {
    "id": "DPnJ27y0KBcg"
   },
   "outputs": [],
   "source": [
    "datagen = ImageDataGenerator(height_shift_range=0.5)\n",
    "datagen.fit(X_train)\n",
    "\n",
    "for X_batch, y_batch in datagen.flow(X_train, y_train, batch_size=4, seed=499):\n",
    "  for i in range(0,4):\n",
    "    pyplot.subplot(220 +1 +i)\n",
    "    pyplot.imshow(X_batch[i])\n",
    "  pyplot.show()\n",
    "  break"
   ]
  },
  {
   "cell_type": "markdown",
   "metadata": {
    "id": "VwKFN3ccKKcR"
   },
   "source": [
    "Featurewise Center"
   ]
  },
  {
   "cell_type": "code",
   "execution_count": null,
   "metadata": {
    "id": "Pn7vI6GFKJ8R"
   },
   "outputs": [],
   "source": [
    "datagen = ImageDataGenerator(featurewise_center=True)\n",
    "datagen.fit(X_train)\n",
    "\n",
    "for X_batch, y_batch in datagen.flow(X_train, y_train, batch_size=4, seed=499):\n",
    "  for i in range(0,4):\n",
    "    pyplot.subplot(220 +1 +i)\n",
    "    pyplot.imshow(X_batch[i])\n",
    "  pyplot.show()\n",
    "  break"
   ]
  },
  {
   "cell_type": "markdown",
   "metadata": {
    "id": "OuIEokh2KTAq"
   },
   "source": [
    "Samplewise Center"
   ]
  },
  {
   "cell_type": "code",
   "execution_count": null,
   "metadata": {
    "id": "wNikwtaFKRdq"
   },
   "outputs": [],
   "source": [
    "datagen = ImageDataGenerator(samplewise_center=True)\n",
    "datagen.fit(X_train)\n",
    "\n",
    "for X_batch, y_batch in datagen.flow(X_train, y_train, batch_size=4, seed=499):\n",
    "  for i in range(0,4):\n",
    "    pyplot.subplot(220 +1 +i)\n",
    "    pyplot.imshow(X_batch[i])\n",
    "  pyplot.show()\n",
    "  break"
   ]
  },
  {
   "cell_type": "markdown",
   "metadata": {
    "id": "1PF3ptiuKVg5"
   },
   "source": [
    "Featurewise std_normalization"
   ]
  },
  {
   "cell_type": "code",
   "execution_count": null,
   "metadata": {
    "id": "eLuLOD4TKVvh"
   },
   "outputs": [],
   "source": [
    "datagen = ImageDataGenerator(featurewise_std_normalization=True)\n",
    "datagen.fit(X_train)\n",
    "\n",
    "for X_batch, y_batch in datagen.flow(X_train, y_train, batch_size=4, seed=499):\n",
    "  for i in range(0,4):\n",
    "    pyplot.subplot(220 +1 +i)\n",
    "    pyplot.imshow(X_batch[i])\n",
    "  pyplot.show()\n",
    "  break"
   ]
  },
  {
   "cell_type": "markdown",
   "metadata": {
    "id": "_gMR6xZPKZIy"
   },
   "source": [
    "Samplewise std_normalization"
   ]
  },
  {
   "cell_type": "code",
   "execution_count": null,
   "metadata": {
    "id": "q69sIb-KKaV1"
   },
   "outputs": [],
   "source": [
    "datagen = ImageDataGenerator(samplewise_std_normalization=True)\n",
    "datagen.fit(X_train)\n",
    "\n",
    "for X_batch, y_batch in datagen.flow(X_train, y_train, batch_size=4, seed=499):\n",
    "  for i in range(0,4):\n",
    "    pyplot.subplot(220 +1 +i)\n",
    "    pyplot.imshow(X_batch[i])\n",
    "  pyplot.show()\n",
    "  break"
   ]
  },
  {
   "cell_type": "markdown",
   "metadata": {
    "id": "XB4Bezn2Kgv0"
   },
   "source": [
    "Zca Whitening"
   ]
  },
  {
   "cell_type": "code",
   "execution_count": null,
   "metadata": {
    "id": "M0DVWWtxKfSU"
   },
   "outputs": [],
   "source": [
    "datagen = ImageDataGenerator(zca_whitening=True)\n",
    "datagen.fit(X_train)\n",
    "\n",
    "for X_batch, y_batch in datagen.flow(X_train, y_train, batch_size=4, seed=499):\n",
    "  for i in range(0,4):\n",
    "    pyplot.subplot(220 +1 +i)\n",
    "    pyplot.imshow(X_batch[i])\n",
    "  pyplot.show()\n",
    "  break"
   ]
  },
  {
   "cell_type": "markdown",
   "metadata": {
    "id": "YAm0yAr9Kje6"
   },
   "source": [
    "Zoom Range"
   ]
  },
  {
   "cell_type": "code",
   "execution_count": null,
   "metadata": {
    "id": "fItSxa-fKj3c"
   },
   "outputs": [],
   "source": [
    "datagen = ImageDataGenerator(zoom_range=0.3)\n",
    "datagen.fit(X_train)\n",
    "\n",
    "for X_batch, y_batch in datagen.flow(X_train, y_train, batch_size=4, seed=499):\n",
    "  for i in range(0,4):\n",
    "    pyplot.subplot(220 +1 +i)\n",
    "    pyplot.imshow(X_batch[i])\n",
    "  pyplot.show()\n",
    "  break"
   ]
  },
  {
   "cell_type": "code",
   "execution_count": null,
   "metadata": {
    "id": "rKIwcHelK3xz"
   },
   "outputs": [],
   "source": [
    "import os\n",
    "\n",
    "import scipy.io\n",
    "from skimage.transform import resize\n",
    "from tqdm import tqdm, trange\n",
    "import gc\n",
    "import torch\n",
    "import sys\n",
    "gc.collect()\n",
    "use_gpu = torch.cuda.is_available()\n",
    "\n",
    "def thresh(x):\n",
    "    if x == 0:\n",
    "        return 0\n",
    "    else:\n",
    "        return 1\n",
    "\n",
    "thresh = np.vectorize(thresh, otypes=[np.float])\n",
    "\n",
    "def create_dataset(paths, width_in, height_in, width_out, height_out, data_indexes, mat):\n",
    "    x = []\n",
    "    y = []\n",
    "    for path in tqdm(paths):\n",
    "        mat = scipy.io.loadmat(path)\n",
    "        img_tensor = mat['images']\n",
    "        fluid_tensor = mat['manualFluid1']\n",
    "        img_array = np.transpose(img_tensor, (2, 0 ,1)) / 255\n",
    "        img_array = resize(img_array, (img_array.shape[0], width_in, height_in))\n",
    "        fluid_array = np.transpose(fluid_tensor, (2, 0 ,1))\n",
    "        fluid_array = thresh(fluid_array)\n",
    "        fluid_array  = resize(fluid_array, (fluid_array .shape[0], width_out, height_out))\n",
    "\n",
    "        for idx in data_indexes:\n",
    "            x += [np.expand_dims(img_array[idx], 0)]\n",
    "            y += [np.expand_dims(fluid_array[idx], 0)]\n",
    "    return np.array(x), np.array(y)\n",
    "\n",
    "def get_dataset(width_in, height_in, width_out, height_out):\n",
    "    input_path = os.path.join('2015_BOE_Chiu')\n",
    "    subject_path = [os.path.join(input_path, 'Subject_0{}.mat'.format(i)) for i in range(1, 10)] + [os.path.join(input_path, 'Subject_10.mat')]\n",
    "    #subject_path = [os.path.join(input_path, 'Subject_0{}.mat'.format(i)) for i in range(1, 3)]\n",
    "    m = len(subject_path)\n",
    "    data_indexes = [10, 15, 20, 25, 28, 30, 32, 35, 40, 45, 50]\n",
    "    mat = scipy.io.loadmat(subject_path[0])\n",
    "    img_tensor = mat['images']\n",
    "    manual_fluid_tensor_1 = mat['manualFluid1']\n",
    "    img_array = np.transpose(img_tensor, (2, 0, 1))\n",
    "    manual_fluid_array = np.transpose(manual_fluid_tensor_1, (2, 0, 1))\n",
    "    x_train, y_train = create_dataset(subject_path[:m-1], width_in, height_in, width_out, height_out, data_indexes, mat)\n",
    "    x_val, y_val = create_dataset(subject_path[m-1:], width_in, height_in, width_out, height_out, data_indexes, mat)\n",
    "    return x_train, y_train,x_val,y_val\n",
    "\n",
    "def train_step(inputs, labels, optimizer, criterion, unet, width_out, height_out):\n",
    "    optimizer.zero_grad()\n",
    "    # forward + backward + optimize\n",
    "    outputs = unet(inputs)\n",
    "    # outputs.shape =(batch_size, n_classes, img_cols, img_rows)\n",
    "    outputs = outputs.permute(0, 2, 3, 1)\n",
    "    # outputs.shape =(batch_size, img_cols, img_rows, n_classes)\n",
    "    m = outputs.shape[0]\n",
    "    outputs = outputs.resize(m*width_out*height_out, 2)\n",
    "    labels = labels.resize(m*width_out*height_out)\n",
    "    loss = criterion(outputs, labels)\n",
    "    loss.backward()\n",
    "    optimizer.step()\n",
    "    return loss\n",
    "\n",
    "def get_val_loss(x_val, y_val, width_out, height_out, unet):\n",
    "    x_val = torch.from_numpy(x_val).float()\n",
    "    y_val = torch.from_numpy(y_val).long()\n",
    "    if use_gpu:\n",
    "        x_val = x_val.cuda()\n",
    "        y_val = y_val.cuda()\n",
    "    m = x_val.shape[0]\n",
    "    outputs = unet(x_val)\n",
    "    # outputs.shape =(batch_size, n_classes, img_cols, img_rows) \n",
    "    outputs = outputs.permute(0, 2, 3, 1)\n",
    "    # outputs.shape =(batch_size, img_cols, img_rows, n_classes) \n",
    "    outputs = outputs.resize(m*width_out*height_out, 2)\n",
    "    labels = y_val.resize(m*width_out*height_out)\n",
    "    loss = F.cross_entropy(outputs, labels)\n",
    "    return loss.data\n",
    "\n",
    "def train(unet, batch_size, epochs, epoch_lapse, threshold, learning_rate, criterion, optimizer, x_train, y_train, x_val, y_val, width_out, height_out):\n",
    "    epoch_iter = np.ceil(x_train.shape[0] / batch_size).astype(int)\n",
    "    t = trange(epochs, leave=True)\n",
    "    for _ in t:\n",
    "        total_loss = 0\n",
    "        for i in range(epoch_iter):\n",
    "            batch_train_x = torch.from_numpy(x_train[i * batch_size : (i + 1) * batch_size]).float()\n",
    "            batch_train_y = torch.from_numpy(y_train[i * batch_size : (i + 1) * batch_size]).long()\n",
    "            if use_gpu:\n",
    "                batch_train_x = batch_train_x.cuda()\n",
    "                batch_train_y = batch_train_y.cuda()\n",
    "            batch_loss = train_step(batch_train_x , batch_train_y, optimizer, criterion, unet, width_out, height_out)\n",
    "            total_loss += batch_loss\n",
    "        if (_+1) % epoch_lapse == 0:\n",
    "            val_loss = get_val_loss(x_val, y_val, width_out, height_out, unet)\n",
    "            print(\"Total loss in epoch %f : %f and validation loss : %f\" %(_+1, total_loss, val_loss))\n",
    "    gc.collect()\n",
    "\n",
    "def plot_examples(unet, datax, datay, num_examples=3):\n",
    "    fig, ax = plt.subplots(nrows=3, ncols=4, figsize=(18,4*num_examples))\n",
    "    m = datax.shape[0]\n",
    "    for row_num in range(num_examples):\n",
    "        image_indx = np.random.randint(m)\n",
    "        image_arr = unet(torch.from_numpy(datax[image_indx:image_indx+1]).float().cuda()).squeeze(0).detach().cpu().numpy()\n",
    "        ax[row_num][0].imshow(np.transpose(datax[image_indx], (1,2,0))[:,:,0])\n",
    "        ax[row_num][1].imshow(np.transpose(image_arr, (1,2,0))[:,:,0])\n",
    "        ax[row_num][2].imshow(image_arr.argmax(0))\n",
    "        ax[row_num][3].imshow(np.transpose(datay[image_indx], (1,2,0))[:,:,0])\n",
    "    plt.show()\n"
   ]
  },
  {
   "cell_type": "code",
   "execution_count": null,
   "metadata": {
    "colab": {
     "base_uri": "https://localhost:8080/",
     "height": 421
    },
    "id": "8235MqoPLaxu",
    "outputId": "95d44b8b-9859-45e2-e13f-e919b2543606"
   },
   "outputs": [
    {
     "name": "stdout",
     "output_type": "stream",
     "text": [
      "(50000, 32, 32, 3) (50000, 1) (10000, 32, 32, 3) (10000, 1)\n"
     ]
    },
    {
     "name": "stderr",
     "output_type": "stream",
     "text": [
      "  0%|          | 0/1 [00:00<?, ?it/s]\n"
     ]
    },
    {
     "ename": "RuntimeError",
     "evalue": "ignored",
     "output_type": "error",
     "traceback": [
      "\u001b[0;31m---------------------------------------------------------------------------\u001b[0m",
      "\u001b[0;31mRuntimeError\u001b[0m                              Traceback (most recent call last)",
      "\u001b[0;32m<ipython-input-24-090c0ba2d47f>\u001b[0m in \u001b[0;36m<module>\u001b[0;34m()\u001b[0m\n\u001b[1;32m     16\u001b[0m \u001b[0mcriterion\u001b[0m \u001b[0;34m=\u001b[0m \u001b[0mtorch\u001b[0m\u001b[0;34m.\u001b[0m\u001b[0mnn\u001b[0m\u001b[0;34m.\u001b[0m\u001b[0mCrossEntropyLoss\u001b[0m\u001b[0;34m(\u001b[0m\u001b[0;34m)\u001b[0m\u001b[0;34m\u001b[0m\u001b[0;34m\u001b[0m\u001b[0m\n\u001b[1;32m     17\u001b[0m \u001b[0moptimizer\u001b[0m \u001b[0;34m=\u001b[0m \u001b[0mtorch\u001b[0m\u001b[0;34m.\u001b[0m\u001b[0moptim\u001b[0m\u001b[0;34m.\u001b[0m\u001b[0mSGD\u001b[0m\u001b[0;34m(\u001b[0m\u001b[0mnet\u001b[0m\u001b[0;34m.\u001b[0m\u001b[0mparameters\u001b[0m\u001b[0;34m(\u001b[0m\u001b[0;34m)\u001b[0m\u001b[0;34m,\u001b[0m \u001b[0mlr\u001b[0m \u001b[0;34m=\u001b[0m \u001b[0;36m0.01\u001b[0m\u001b[0;34m,\u001b[0m \u001b[0mmomentum\u001b[0m\u001b[0;34m=\u001b[0m\u001b[0;36m0.99\u001b[0m\u001b[0;34m)\u001b[0m\u001b[0;34m\u001b[0m\u001b[0;34m\u001b[0m\u001b[0m\n\u001b[0;32m---> 18\u001b[0;31m \u001b[0mtrain\u001b[0m\u001b[0;34m(\u001b[0m\u001b[0mnet\u001b[0m\u001b[0;34m,\u001b[0m \u001b[0mbatch_size\u001b[0m\u001b[0;34m,\u001b[0m \u001b[0mepochs\u001b[0m\u001b[0;34m,\u001b[0m \u001b[0mepoch_lapse\u001b[0m\u001b[0;34m,\u001b[0m \u001b[0mthreshold\u001b[0m\u001b[0;34m,\u001b[0m \u001b[0mlearning_rate\u001b[0m\u001b[0;34m,\u001b[0m \u001b[0mcriterion\u001b[0m\u001b[0;34m,\u001b[0m \u001b[0moptimizer\u001b[0m\u001b[0;34m,\u001b[0m \u001b[0mX_train\u001b[0m\u001b[0;34m,\u001b[0m \u001b[0my_train\u001b[0m\u001b[0;34m,\u001b[0m \u001b[0mX_test\u001b[0m\u001b[0;34m,\u001b[0m \u001b[0my_test\u001b[0m\u001b[0;34m,\u001b[0m \u001b[0mwidth_out\u001b[0m\u001b[0;34m,\u001b[0m \u001b[0mheight_out\u001b[0m\u001b[0;34m)\u001b[0m\u001b[0;34m\u001b[0m\u001b[0;34m\u001b[0m\u001b[0m\n\u001b[0m\u001b[1;32m     19\u001b[0m \u001b[0mprint\u001b[0m\u001b[0;34m(\u001b[0m\u001b[0mnet\u001b[0m\u001b[0;34m.\u001b[0m\u001b[0meval\u001b[0m\u001b[0;34m(\u001b[0m\u001b[0;34m)\u001b[0m\u001b[0;34m)\u001b[0m\u001b[0;34m\u001b[0m\u001b[0;34m\u001b[0m\u001b[0m\n\u001b[1;32m     20\u001b[0m \u001b[0mplot_examples\u001b[0m\u001b[0;34m(\u001b[0m\u001b[0mnet\u001b[0m\u001b[0;34m,\u001b[0m \u001b[0mX_train\u001b[0m\u001b[0;34m,\u001b[0m \u001b[0my_train\u001b[0m\u001b[0;34m)\u001b[0m\u001b[0;34m\u001b[0m\u001b[0;34m\u001b[0m\u001b[0m\n",
      "\u001b[0;32m<ipython-input-10-f4dd4679954c>\u001b[0m in \u001b[0;36mtrain\u001b[0;34m(unet, batch_size, epochs, epoch_lapse, threshold, learning_rate, criterion, optimizer, x_train, y_train, x_val, y_val, width_out, height_out)\u001b[0m\n\u001b[1;32m     93\u001b[0m                 \u001b[0mbatch_train_x\u001b[0m \u001b[0;34m=\u001b[0m \u001b[0mbatch_train_x\u001b[0m\u001b[0;34m.\u001b[0m\u001b[0mcuda\u001b[0m\u001b[0;34m(\u001b[0m\u001b[0;34m)\u001b[0m\u001b[0;34m\u001b[0m\u001b[0;34m\u001b[0m\u001b[0m\n\u001b[1;32m     94\u001b[0m                 \u001b[0mbatch_train_y\u001b[0m \u001b[0;34m=\u001b[0m \u001b[0mbatch_train_y\u001b[0m\u001b[0;34m.\u001b[0m\u001b[0mcuda\u001b[0m\u001b[0;34m(\u001b[0m\u001b[0;34m)\u001b[0m\u001b[0;34m\u001b[0m\u001b[0;34m\u001b[0m\u001b[0m\n\u001b[0;32m---> 95\u001b[0;31m             \u001b[0mbatch_loss\u001b[0m \u001b[0;34m=\u001b[0m \u001b[0mtrain_step\u001b[0m\u001b[0;34m(\u001b[0m\u001b[0mbatch_train_x\u001b[0m \u001b[0;34m,\u001b[0m \u001b[0mbatch_train_y\u001b[0m\u001b[0;34m,\u001b[0m \u001b[0moptimizer\u001b[0m\u001b[0;34m,\u001b[0m \u001b[0mcriterion\u001b[0m\u001b[0;34m,\u001b[0m \u001b[0munet\u001b[0m\u001b[0;34m,\u001b[0m \u001b[0mwidth_out\u001b[0m\u001b[0;34m,\u001b[0m \u001b[0mheight_out\u001b[0m\u001b[0;34m)\u001b[0m\u001b[0;34m\u001b[0m\u001b[0;34m\u001b[0m\u001b[0m\n\u001b[0m\u001b[1;32m     96\u001b[0m             \u001b[0mtotal_loss\u001b[0m \u001b[0;34m+=\u001b[0m \u001b[0mbatch_loss\u001b[0m\u001b[0;34m\u001b[0m\u001b[0;34m\u001b[0m\u001b[0m\n\u001b[1;32m     97\u001b[0m         \u001b[0;32mif\u001b[0m \u001b[0;34m(\u001b[0m\u001b[0m_\u001b[0m\u001b[0;34m+\u001b[0m\u001b[0;36m1\u001b[0m\u001b[0;34m)\u001b[0m \u001b[0;34m%\u001b[0m \u001b[0mepoch_lapse\u001b[0m \u001b[0;34m==\u001b[0m \u001b[0;36m0\u001b[0m\u001b[0;34m:\u001b[0m\u001b[0;34m\u001b[0m\u001b[0;34m\u001b[0m\u001b[0m\n",
      "\u001b[0;32m<ipython-input-10-f4dd4679954c>\u001b[0m in \u001b[0;36mtrain_step\u001b[0;34m(inputs, labels, optimizer, criterion, unet, width_out, height_out)\u001b[0m\n\u001b[1;32m     54\u001b[0m     \u001b[0moptimizer\u001b[0m\u001b[0;34m.\u001b[0m\u001b[0mzero_grad\u001b[0m\u001b[0;34m(\u001b[0m\u001b[0;34m)\u001b[0m\u001b[0;34m\u001b[0m\u001b[0;34m\u001b[0m\u001b[0m\n\u001b[1;32m     55\u001b[0m     \u001b[0;31m# forward + backward + optimize\u001b[0m\u001b[0;34m\u001b[0m\u001b[0;34m\u001b[0m\u001b[0;34m\u001b[0m\u001b[0m\n\u001b[0;32m---> 56\u001b[0;31m     \u001b[0moutputs\u001b[0m \u001b[0;34m=\u001b[0m \u001b[0munet\u001b[0m\u001b[0;34m(\u001b[0m\u001b[0minputs\u001b[0m\u001b[0;34m)\u001b[0m\u001b[0;34m\u001b[0m\u001b[0;34m\u001b[0m\u001b[0m\n\u001b[0m\u001b[1;32m     57\u001b[0m     \u001b[0;31m# outputs.shape =(batch_size, n_classes, img_cols, img_rows)\u001b[0m\u001b[0;34m\u001b[0m\u001b[0;34m\u001b[0m\u001b[0;34m\u001b[0m\u001b[0m\n\u001b[1;32m     58\u001b[0m     \u001b[0moutputs\u001b[0m \u001b[0;34m=\u001b[0m \u001b[0moutputs\u001b[0m\u001b[0;34m.\u001b[0m\u001b[0mpermute\u001b[0m\u001b[0;34m(\u001b[0m\u001b[0;36m0\u001b[0m\u001b[0;34m,\u001b[0m \u001b[0;36m2\u001b[0m\u001b[0;34m,\u001b[0m \u001b[0;36m3\u001b[0m\u001b[0;34m,\u001b[0m \u001b[0;36m1\u001b[0m\u001b[0;34m)\u001b[0m\u001b[0;34m\u001b[0m\u001b[0;34m\u001b[0m\u001b[0m\n",
      "\u001b[0;32m/usr/local/lib/python3.7/dist-packages/torch/nn/modules/module.py\u001b[0m in \u001b[0;36m_call_impl\u001b[0;34m(self, *input, **kwargs)\u001b[0m\n\u001b[1;32m   1049\u001b[0m         if not (self._backward_hooks or self._forward_hooks or self._forward_pre_hooks or _global_backward_hooks\n\u001b[1;32m   1050\u001b[0m                 or _global_forward_hooks or _global_forward_pre_hooks):\n\u001b[0;32m-> 1051\u001b[0;31m             \u001b[0;32mreturn\u001b[0m \u001b[0mforward_call\u001b[0m\u001b[0;34m(\u001b[0m\u001b[0;34m*\u001b[0m\u001b[0minput\u001b[0m\u001b[0;34m,\u001b[0m \u001b[0;34m**\u001b[0m\u001b[0mkwargs\u001b[0m\u001b[0;34m)\u001b[0m\u001b[0;34m\u001b[0m\u001b[0;34m\u001b[0m\u001b[0m\n\u001b[0m\u001b[1;32m   1052\u001b[0m         \u001b[0;31m# Do not call functions when jit is used\u001b[0m\u001b[0;34m\u001b[0m\u001b[0;34m\u001b[0m\u001b[0;34m\u001b[0m\u001b[0m\n\u001b[1;32m   1053\u001b[0m         \u001b[0mfull_backward_hooks\u001b[0m\u001b[0;34m,\u001b[0m \u001b[0mnon_full_backward_hooks\u001b[0m \u001b[0;34m=\u001b[0m \u001b[0;34m[\u001b[0m\u001b[0;34m]\u001b[0m\u001b[0;34m,\u001b[0m \u001b[0;34m[\u001b[0m\u001b[0;34m]\u001b[0m\u001b[0;34m\u001b[0m\u001b[0;34m\u001b[0m\u001b[0m\n",
      "\u001b[0;32m<ipython-input-19-3e4a97cc1f2d>\u001b[0m in \u001b[0;36mforward\u001b[0;34m(self, x)\u001b[0m\n\u001b[1;32m     81\u001b[0m     \u001b[0;32mdef\u001b[0m \u001b[0mforward\u001b[0m\u001b[0;34m(\u001b[0m\u001b[0mself\u001b[0m\u001b[0;34m,\u001b[0m \u001b[0mx\u001b[0m\u001b[0;34m)\u001b[0m\u001b[0;34m:\u001b[0m\u001b[0;34m\u001b[0m\u001b[0;34m\u001b[0m\u001b[0m\n\u001b[1;32m     82\u001b[0m         \u001b[0;31m# Encode\u001b[0m\u001b[0;34m\u001b[0m\u001b[0;34m\u001b[0m\u001b[0;34m\u001b[0m\u001b[0m\n\u001b[0;32m---> 83\u001b[0;31m         \u001b[0mencode_block1\u001b[0m \u001b[0;34m=\u001b[0m \u001b[0mself\u001b[0m\u001b[0;34m.\u001b[0m\u001b[0mconv_encode1\u001b[0m\u001b[0;34m(\u001b[0m\u001b[0mx\u001b[0m\u001b[0;34m)\u001b[0m\u001b[0;34m\u001b[0m\u001b[0;34m\u001b[0m\u001b[0m\n\u001b[0m\u001b[1;32m     84\u001b[0m         \u001b[0mencode_pool1\u001b[0m \u001b[0;34m=\u001b[0m \u001b[0mself\u001b[0m\u001b[0;34m.\u001b[0m\u001b[0mconv_maxpool1\u001b[0m\u001b[0;34m(\u001b[0m\u001b[0mencode_block1\u001b[0m\u001b[0;34m)\u001b[0m\u001b[0;34m\u001b[0m\u001b[0;34m\u001b[0m\u001b[0m\n\u001b[1;32m     85\u001b[0m         \u001b[0mencode_block2\u001b[0m \u001b[0;34m=\u001b[0m \u001b[0mself\u001b[0m\u001b[0;34m.\u001b[0m\u001b[0mconv_encode2\u001b[0m\u001b[0;34m(\u001b[0m\u001b[0mencode_pool1\u001b[0m\u001b[0;34m)\u001b[0m\u001b[0;34m\u001b[0m\u001b[0;34m\u001b[0m\u001b[0m\n",
      "\u001b[0;32m/usr/local/lib/python3.7/dist-packages/torch/nn/modules/module.py\u001b[0m in \u001b[0;36m_call_impl\u001b[0;34m(self, *input, **kwargs)\u001b[0m\n\u001b[1;32m   1049\u001b[0m         if not (self._backward_hooks or self._forward_hooks or self._forward_pre_hooks or _global_backward_hooks\n\u001b[1;32m   1050\u001b[0m                 or _global_forward_hooks or _global_forward_pre_hooks):\n\u001b[0;32m-> 1051\u001b[0;31m             \u001b[0;32mreturn\u001b[0m \u001b[0mforward_call\u001b[0m\u001b[0;34m(\u001b[0m\u001b[0;34m*\u001b[0m\u001b[0minput\u001b[0m\u001b[0;34m,\u001b[0m \u001b[0;34m**\u001b[0m\u001b[0mkwargs\u001b[0m\u001b[0;34m)\u001b[0m\u001b[0;34m\u001b[0m\u001b[0;34m\u001b[0m\u001b[0m\n\u001b[0m\u001b[1;32m   1052\u001b[0m         \u001b[0;31m# Do not call functions when jit is used\u001b[0m\u001b[0;34m\u001b[0m\u001b[0;34m\u001b[0m\u001b[0;34m\u001b[0m\u001b[0m\n\u001b[1;32m   1053\u001b[0m         \u001b[0mfull_backward_hooks\u001b[0m\u001b[0;34m,\u001b[0m \u001b[0mnon_full_backward_hooks\u001b[0m \u001b[0;34m=\u001b[0m \u001b[0;34m[\u001b[0m\u001b[0;34m]\u001b[0m\u001b[0;34m,\u001b[0m \u001b[0;34m[\u001b[0m\u001b[0;34m]\u001b[0m\u001b[0;34m\u001b[0m\u001b[0;34m\u001b[0m\u001b[0m\n",
      "\u001b[0;32m/usr/local/lib/python3.7/dist-packages/torch/nn/modules/container.py\u001b[0m in \u001b[0;36mforward\u001b[0;34m(self, input)\u001b[0m\n\u001b[1;32m    137\u001b[0m     \u001b[0;32mdef\u001b[0m \u001b[0mforward\u001b[0m\u001b[0;34m(\u001b[0m\u001b[0mself\u001b[0m\u001b[0;34m,\u001b[0m \u001b[0minput\u001b[0m\u001b[0;34m)\u001b[0m\u001b[0;34m:\u001b[0m\u001b[0;34m\u001b[0m\u001b[0;34m\u001b[0m\u001b[0m\n\u001b[1;32m    138\u001b[0m         \u001b[0;32mfor\u001b[0m \u001b[0mmodule\u001b[0m \u001b[0;32min\u001b[0m \u001b[0mself\u001b[0m\u001b[0;34m:\u001b[0m\u001b[0;34m\u001b[0m\u001b[0;34m\u001b[0m\u001b[0m\n\u001b[0;32m--> 139\u001b[0;31m             \u001b[0minput\u001b[0m \u001b[0;34m=\u001b[0m \u001b[0mmodule\u001b[0m\u001b[0;34m(\u001b[0m\u001b[0minput\u001b[0m\u001b[0;34m)\u001b[0m\u001b[0;34m\u001b[0m\u001b[0;34m\u001b[0m\u001b[0m\n\u001b[0m\u001b[1;32m    140\u001b[0m         \u001b[0;32mreturn\u001b[0m \u001b[0minput\u001b[0m\u001b[0;34m\u001b[0m\u001b[0;34m\u001b[0m\u001b[0m\n\u001b[1;32m    141\u001b[0m \u001b[0;34m\u001b[0m\u001b[0m\n",
      "\u001b[0;32m/usr/local/lib/python3.7/dist-packages/torch/nn/modules/module.py\u001b[0m in \u001b[0;36m_call_impl\u001b[0;34m(self, *input, **kwargs)\u001b[0m\n\u001b[1;32m   1049\u001b[0m         if not (self._backward_hooks or self._forward_hooks or self._forward_pre_hooks or _global_backward_hooks\n\u001b[1;32m   1050\u001b[0m                 or _global_forward_hooks or _global_forward_pre_hooks):\n\u001b[0;32m-> 1051\u001b[0;31m             \u001b[0;32mreturn\u001b[0m \u001b[0mforward_call\u001b[0m\u001b[0;34m(\u001b[0m\u001b[0;34m*\u001b[0m\u001b[0minput\u001b[0m\u001b[0;34m,\u001b[0m \u001b[0;34m**\u001b[0m\u001b[0mkwargs\u001b[0m\u001b[0;34m)\u001b[0m\u001b[0;34m\u001b[0m\u001b[0;34m\u001b[0m\u001b[0m\n\u001b[0m\u001b[1;32m   1052\u001b[0m         \u001b[0;31m# Do not call functions when jit is used\u001b[0m\u001b[0;34m\u001b[0m\u001b[0;34m\u001b[0m\u001b[0;34m\u001b[0m\u001b[0m\n\u001b[1;32m   1053\u001b[0m         \u001b[0mfull_backward_hooks\u001b[0m\u001b[0;34m,\u001b[0m \u001b[0mnon_full_backward_hooks\u001b[0m \u001b[0;34m=\u001b[0m \u001b[0;34m[\u001b[0m\u001b[0;34m]\u001b[0m\u001b[0;34m,\u001b[0m \u001b[0;34m[\u001b[0m\u001b[0;34m]\u001b[0m\u001b[0;34m\u001b[0m\u001b[0;34m\u001b[0m\u001b[0m\n",
      "\u001b[0;32m/usr/local/lib/python3.7/dist-packages/torch/nn/modules/conv.py\u001b[0m in \u001b[0;36mforward\u001b[0;34m(self, input)\u001b[0m\n\u001b[1;32m    441\u001b[0m \u001b[0;34m\u001b[0m\u001b[0m\n\u001b[1;32m    442\u001b[0m     \u001b[0;32mdef\u001b[0m \u001b[0mforward\u001b[0m\u001b[0;34m(\u001b[0m\u001b[0mself\u001b[0m\u001b[0;34m,\u001b[0m \u001b[0minput\u001b[0m\u001b[0;34m:\u001b[0m \u001b[0mTensor\u001b[0m\u001b[0;34m)\u001b[0m \u001b[0;34m->\u001b[0m \u001b[0mTensor\u001b[0m\u001b[0;34m:\u001b[0m\u001b[0;34m\u001b[0m\u001b[0;34m\u001b[0m\u001b[0m\n\u001b[0;32m--> 443\u001b[0;31m         \u001b[0;32mreturn\u001b[0m \u001b[0mself\u001b[0m\u001b[0;34m.\u001b[0m\u001b[0m_conv_forward\u001b[0m\u001b[0;34m(\u001b[0m\u001b[0minput\u001b[0m\u001b[0;34m,\u001b[0m \u001b[0mself\u001b[0m\u001b[0;34m.\u001b[0m\u001b[0mweight\u001b[0m\u001b[0;34m,\u001b[0m \u001b[0mself\u001b[0m\u001b[0;34m.\u001b[0m\u001b[0mbias\u001b[0m\u001b[0;34m)\u001b[0m\u001b[0;34m\u001b[0m\u001b[0;34m\u001b[0m\u001b[0m\n\u001b[0m\u001b[1;32m    444\u001b[0m \u001b[0;34m\u001b[0m\u001b[0m\n\u001b[1;32m    445\u001b[0m \u001b[0;32mclass\u001b[0m \u001b[0mConv3d\u001b[0m\u001b[0;34m(\u001b[0m\u001b[0m_ConvNd\u001b[0m\u001b[0;34m)\u001b[0m\u001b[0;34m:\u001b[0m\u001b[0;34m\u001b[0m\u001b[0;34m\u001b[0m\u001b[0m\n",
      "\u001b[0;32m/usr/local/lib/python3.7/dist-packages/torch/nn/modules/conv.py\u001b[0m in \u001b[0;36m_conv_forward\u001b[0;34m(self, input, weight, bias)\u001b[0m\n\u001b[1;32m    438\u001b[0m                             _pair(0), self.dilation, self.groups)\n\u001b[1;32m    439\u001b[0m         return F.conv2d(input, weight, bias, self.stride,\n\u001b[0;32m--> 440\u001b[0;31m                         self.padding, self.dilation, self.groups)\n\u001b[0m\u001b[1;32m    441\u001b[0m \u001b[0;34m\u001b[0m\u001b[0m\n\u001b[1;32m    442\u001b[0m     \u001b[0;32mdef\u001b[0m \u001b[0mforward\u001b[0m\u001b[0;34m(\u001b[0m\u001b[0mself\u001b[0m\u001b[0;34m,\u001b[0m \u001b[0minput\u001b[0m\u001b[0;34m:\u001b[0m \u001b[0mTensor\u001b[0m\u001b[0;34m)\u001b[0m \u001b[0;34m->\u001b[0m \u001b[0mTensor\u001b[0m\u001b[0;34m:\u001b[0m\u001b[0;34m\u001b[0m\u001b[0;34m\u001b[0m\u001b[0m\n",
      "\u001b[0;31mRuntimeError\u001b[0m: Given groups=1, weight of size [64, 1, 3, 3], expected input[3, 32, 32, 3] to have 1 channels, but got 32 channels instead"
     ]
    }
   ],
   "source": [
    "    width_in = 284\n",
    "    height_in = 284\n",
    "    width_out = 196\n",
    "    height_out = 196\n",
    "    PATH = './unet.pt'\n",
    "    #x_train, y_train, x_val, y_val = get_dataset(width_in, height_in, width_out, height_out)\n",
    "    print(X_train.shape, y_train.shape, X_test.shape, y_test.shape)\n",
    "    batch_size = 3\n",
    "    epochs = 1\n",
    "    epoch_lapse = 50\n",
    "    threshold = 0.5\n",
    "    learning_rate = 0.01\n",
    "    #net = UNet(in_channel=1,out_channel=2)\n",
    "    if use_gpu:\n",
    "        unet = unet.cuda()\n",
    "    criterion = torch.nn.CrossEntropyLoss()\n",
    "    optimizer = torch.optim.SGD(net.parameters(), lr = 0.01, momentum=0.99)\n",
    "    train(net, batch_size, epochs, epoch_lapse, threshold, learning_rate, criterion, optimizer, X_train, y_train, X_test, y_test, width_out, height_out)\n",
    "    print(net.eval())\n",
    "    plot_examples(net, X_train, y_train)\n",
    "    plot_examples(net, X_test, y_test)"
   ]
  }
 ],
 "metadata": {
  "colab": {
   "collapsed_sections": [],
   "name": "UNet_def.ipynb",
   "provenance": [],
   "toc_visible": true
  },
  "kernelspec": {
   "display_name": "Python 3",
   "language": "python",
   "name": "python3"
  },
  "language_info": {
   "codemirror_mode": {
    "name": "ipython",
    "version": 3
   },
   "file_extension": ".py",
   "mimetype": "text/x-python",
   "name": "python",
   "nbconvert_exporter": "python",
   "pygments_lexer": "ipython3",
   "version": "3.8.3"
  },
  "toc": {
   "base_numbering": 1,
   "nav_menu": {},
   "number_sections": true,
   "sideBar": true,
   "skip_h1_title": false,
   "title_cell": "Table of Contents",
   "title_sidebar": "Contents",
   "toc_cell": false,
   "toc_position": {},
   "toc_section_display": true,
   "toc_window_display": false
  },
  "widgets": {
   "application/vnd.jupyter.widget-state+json": {
    "0b4a4da849994cac8e85b10711a63e32": {
     "model_module": "@jupyter-widgets/base",
     "model_module_version": "1.2.0",
     "model_name": "LayoutModel",
     "state": {
      "_model_module": "@jupyter-widgets/base",
      "_model_module_version": "1.2.0",
      "_model_name": "LayoutModel",
      "_view_count": null,
      "_view_module": "@jupyter-widgets/base",
      "_view_module_version": "1.2.0",
      "_view_name": "LayoutView",
      "align_content": null,
      "align_items": null,
      "align_self": null,
      "border": null,
      "bottom": null,
      "display": null,
      "flex": null,
      "flex_flow": null,
      "grid_area": null,
      "grid_auto_columns": null,
      "grid_auto_flow": null,
      "grid_auto_rows": null,
      "grid_column": null,
      "grid_gap": null,
      "grid_row": null,
      "grid_template_areas": null,
      "grid_template_columns": null,
      "grid_template_rows": null,
      "height": null,
      "justify_content": null,
      "justify_items": null,
      "left": null,
      "margin": null,
      "max_height": null,
      "max_width": null,
      "min_height": null,
      "min_width": null,
      "object_fit": null,
      "object_position": null,
      "order": null,
      "overflow": null,
      "overflow_x": null,
      "overflow_y": null,
      "padding": null,
      "right": null,
      "top": null,
      "visibility": null,
      "width": null
     }
    },
    "2076269be7cc41958829fafefdbe0943": {
     "model_module": "@jupyter-widgets/controls",
     "model_module_version": "1.5.0",
     "model_name": "FloatProgressModel",
     "state": {
      "_dom_classes": [],
      "_model_module": "@jupyter-widgets/controls",
      "_model_module_version": "1.5.0",
      "_model_name": "FloatProgressModel",
      "_view_count": null,
      "_view_module": "@jupyter-widgets/controls",
      "_view_module_version": "1.5.0",
      "_view_name": "ProgressView",
      "bar_style": "success",
      "description": "",
      "description_tooltip": null,
      "layout": "IPY_MODEL_e453bf9f36494ee0aa5c6b9761a3b3f0",
      "max": 170498071,
      "min": 0,
      "orientation": "horizontal",
      "style": "IPY_MODEL_ba04a6187d4f4353bdc0eed16feb1939",
      "value": 170498071
     }
    },
    "4ca0ddd124814eb88050983146aa0642": {
     "model_module": "@jupyter-widgets/controls",
     "model_module_version": "1.5.0",
     "model_name": "DescriptionStyleModel",
     "state": {
      "_model_module": "@jupyter-widgets/controls",
      "_model_module_version": "1.5.0",
      "_model_name": "DescriptionStyleModel",
      "_view_count": null,
      "_view_module": "@jupyter-widgets/base",
      "_view_module_version": "1.2.0",
      "_view_name": "StyleView",
      "description_width": ""
     }
    },
    "6a7280d98a7c44ed9ba50cd69b7a32c4": {
     "model_module": "@jupyter-widgets/controls",
     "model_module_version": "1.5.0",
     "model_name": "HTMLModel",
     "state": {
      "_dom_classes": [],
      "_model_module": "@jupyter-widgets/controls",
      "_model_module_version": "1.5.0",
      "_model_name": "HTMLModel",
      "_view_count": null,
      "_view_module": "@jupyter-widgets/controls",
      "_view_module_version": "1.5.0",
      "_view_name": "HTMLView",
      "description": "",
      "description_tooltip": null,
      "layout": "IPY_MODEL_73f0fc1b0faf478aae6c8dec283084b3",
      "placeholder": "​",
      "style": "IPY_MODEL_4ca0ddd124814eb88050983146aa0642",
      "value": " 170499072/? [00:07&lt;00:00, 29316218.19it/s]"
     }
    },
    "73f0fc1b0faf478aae6c8dec283084b3": {
     "model_module": "@jupyter-widgets/base",
     "model_module_version": "1.2.0",
     "model_name": "LayoutModel",
     "state": {
      "_model_module": "@jupyter-widgets/base",
      "_model_module_version": "1.2.0",
      "_model_name": "LayoutModel",
      "_view_count": null,
      "_view_module": "@jupyter-widgets/base",
      "_view_module_version": "1.2.0",
      "_view_name": "LayoutView",
      "align_content": null,
      "align_items": null,
      "align_self": null,
      "border": null,
      "bottom": null,
      "display": null,
      "flex": null,
      "flex_flow": null,
      "grid_area": null,
      "grid_auto_columns": null,
      "grid_auto_flow": null,
      "grid_auto_rows": null,
      "grid_column": null,
      "grid_gap": null,
      "grid_row": null,
      "grid_template_areas": null,
      "grid_template_columns": null,
      "grid_template_rows": null,
      "height": null,
      "justify_content": null,
      "justify_items": null,
      "left": null,
      "margin": null,
      "max_height": null,
      "max_width": null,
      "min_height": null,
      "min_width": null,
      "object_fit": null,
      "object_position": null,
      "order": null,
      "overflow": null,
      "overflow_x": null,
      "overflow_y": null,
      "padding": null,
      "right": null,
      "top": null,
      "visibility": null,
      "width": null
     }
    },
    "778aaa1c1f34404c87c78c5ef5222e16": {
     "model_module": "@jupyter-widgets/base",
     "model_module_version": "1.2.0",
     "model_name": "LayoutModel",
     "state": {
      "_model_module": "@jupyter-widgets/base",
      "_model_module_version": "1.2.0",
      "_model_name": "LayoutModel",
      "_view_count": null,
      "_view_module": "@jupyter-widgets/base",
      "_view_module_version": "1.2.0",
      "_view_name": "LayoutView",
      "align_content": null,
      "align_items": null,
      "align_self": null,
      "border": null,
      "bottom": null,
      "display": null,
      "flex": null,
      "flex_flow": null,
      "grid_area": null,
      "grid_auto_columns": null,
      "grid_auto_flow": null,
      "grid_auto_rows": null,
      "grid_column": null,
      "grid_gap": null,
      "grid_row": null,
      "grid_template_areas": null,
      "grid_template_columns": null,
      "grid_template_rows": null,
      "height": null,
      "justify_content": null,
      "justify_items": null,
      "left": null,
      "margin": null,
      "max_height": null,
      "max_width": null,
      "min_height": null,
      "min_width": null,
      "object_fit": null,
      "object_position": null,
      "order": null,
      "overflow": null,
      "overflow_x": null,
      "overflow_y": null,
      "padding": null,
      "right": null,
      "top": null,
      "visibility": null,
      "width": null
     }
    },
    "7dfee193a6e94c43856a6a2296d3f487": {
     "model_module": "@jupyter-widgets/controls",
     "model_module_version": "1.5.0",
     "model_name": "HBoxModel",
     "state": {
      "_dom_classes": [],
      "_model_module": "@jupyter-widgets/controls",
      "_model_module_version": "1.5.0",
      "_model_name": "HBoxModel",
      "_view_count": null,
      "_view_module": "@jupyter-widgets/controls",
      "_view_module_version": "1.5.0",
      "_view_name": "HBoxView",
      "box_style": "",
      "children": [
       "IPY_MODEL_9bcc63a250d64f7b8d8c6bcdd931fa47",
       "IPY_MODEL_2076269be7cc41958829fafefdbe0943",
       "IPY_MODEL_6a7280d98a7c44ed9ba50cd69b7a32c4"
      ],
      "layout": "IPY_MODEL_0b4a4da849994cac8e85b10711a63e32"
     }
    },
    "9584278546ab477ba4d98c987ad76530": {
     "model_module": "@jupyter-widgets/controls",
     "model_module_version": "1.5.0",
     "model_name": "DescriptionStyleModel",
     "state": {
      "_model_module": "@jupyter-widgets/controls",
      "_model_module_version": "1.5.0",
      "_model_name": "DescriptionStyleModel",
      "_view_count": null,
      "_view_module": "@jupyter-widgets/base",
      "_view_module_version": "1.2.0",
      "_view_name": "StyleView",
      "description_width": ""
     }
    },
    "9bcc63a250d64f7b8d8c6bcdd931fa47": {
     "model_module": "@jupyter-widgets/controls",
     "model_module_version": "1.5.0",
     "model_name": "HTMLModel",
     "state": {
      "_dom_classes": [],
      "_model_module": "@jupyter-widgets/controls",
      "_model_module_version": "1.5.0",
      "_model_name": "HTMLModel",
      "_view_count": null,
      "_view_module": "@jupyter-widgets/controls",
      "_view_module_version": "1.5.0",
      "_view_name": "HTMLView",
      "description": "",
      "description_tooltip": null,
      "layout": "IPY_MODEL_778aaa1c1f34404c87c78c5ef5222e16",
      "placeholder": "​",
      "style": "IPY_MODEL_9584278546ab477ba4d98c987ad76530",
      "value": ""
     }
    },
    "ba04a6187d4f4353bdc0eed16feb1939": {
     "model_module": "@jupyter-widgets/controls",
     "model_module_version": "1.5.0",
     "model_name": "ProgressStyleModel",
     "state": {
      "_model_module": "@jupyter-widgets/controls",
      "_model_module_version": "1.5.0",
      "_model_name": "ProgressStyleModel",
      "_view_count": null,
      "_view_module": "@jupyter-widgets/base",
      "_view_module_version": "1.2.0",
      "_view_name": "StyleView",
      "bar_color": null,
      "description_width": ""
     }
    },
    "e453bf9f36494ee0aa5c6b9761a3b3f0": {
     "model_module": "@jupyter-widgets/base",
     "model_module_version": "1.2.0",
     "model_name": "LayoutModel",
     "state": {
      "_model_module": "@jupyter-widgets/base",
      "_model_module_version": "1.2.0",
      "_model_name": "LayoutModel",
      "_view_count": null,
      "_view_module": "@jupyter-widgets/base",
      "_view_module_version": "1.2.0",
      "_view_name": "LayoutView",
      "align_content": null,
      "align_items": null,
      "align_self": null,
      "border": null,
      "bottom": null,
      "display": null,
      "flex": null,
      "flex_flow": null,
      "grid_area": null,
      "grid_auto_columns": null,
      "grid_auto_flow": null,
      "grid_auto_rows": null,
      "grid_column": null,
      "grid_gap": null,
      "grid_row": null,
      "grid_template_areas": null,
      "grid_template_columns": null,
      "grid_template_rows": null,
      "height": null,
      "justify_content": null,
      "justify_items": null,
      "left": null,
      "margin": null,
      "max_height": null,
      "max_width": null,
      "min_height": null,
      "min_width": null,
      "object_fit": null,
      "object_position": null,
      "order": null,
      "overflow": null,
      "overflow_x": null,
      "overflow_y": null,
      "padding": null,
      "right": null,
      "top": null,
      "visibility": null,
      "width": null
     }
    }
   }
  }
 },
 "nbformat": 4,
 "nbformat_minor": 1
}
